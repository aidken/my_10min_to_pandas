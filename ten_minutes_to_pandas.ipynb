{
 "metadata": {
  "language_info": {
   "codemirror_mode": {
    "name": "ipython",
    "version": 3
   },
   "file_extension": ".py",
   "mimetype": "text/x-python",
   "name": "python",
   "nbconvert_exporter": "python",
   "pygments_lexer": "ipython3",
   "version": "3.8.8"
  },
  "orig_nbformat": 2,
  "kernelspec": {
   "name": "python388jvsc74a57bd0c458099ea83a5ed039bb819f7066f0dffb48e7e559bf7d5a5aff014a94aff5f9",
   "display_name": "Python 3.8.8 64-bit ('base': conda)"
  }
 },
 "nbformat": 4,
 "nbformat_minor": 2,
 "cells": [
  {
   "source": [
    "### My walk-through of [10 minutes to pandas](https://pandas.pydata.org/docs/user_guide/10min.html).\n",
    "\n",
    "### [Object creation](https://pandas.pydata.org/docs/user_guide/10min.html#object-creation)"
   ],
   "cell_type": "markdown",
   "metadata": {}
  },
  {
   "cell_type": "code",
   "execution_count": 1,
   "metadata": {},
   "outputs": [],
   "source": [
    "import numpy as np\n",
    "import pandas as pd"
   ]
  },
  {
   "cell_type": "code",
   "execution_count": 2,
   "metadata": {},
   "outputs": [
    {
     "output_type": "execute_result",
     "data": {
      "text/plain": [
       "0    1.0\n",
       "1    3.0\n",
       "2    4.0\n",
       "3    NaN\n",
       "4    6.0\n",
       "5    8.0\n",
       "dtype: float64"
      ]
     },
     "metadata": {},
     "execution_count": 2
    }
   ],
   "source": [
    "s = pd.Series([1, 3, 4, np.nan, 6, 8])\n",
    "s"
   ]
  },
  {
   "cell_type": "code",
   "execution_count": 3,
   "metadata": {},
   "outputs": [
    {
     "output_type": "execute_result",
     "data": {
      "text/plain": [
       "count    5.000000\n",
       "mean     4.400000\n",
       "std      2.701851\n",
       "min      1.000000\n",
       "25%      3.000000\n",
       "50%      4.000000\n",
       "75%      6.000000\n",
       "max      8.000000\n",
       "dtype: float64"
      ]
     },
     "metadata": {},
     "execution_count": 3
    }
   ],
   "source": [
    "s.describe()"
   ]
  },
  {
   "cell_type": "code",
   "execution_count": 4,
   "metadata": {},
   "outputs": [
    {
     "output_type": "execute_result",
     "data": {
      "text/plain": [
       "DatetimeIndex(['2021-01-01', '2021-01-02', '2021-01-03', '2021-01-04',\n",
       "               '2021-01-05', '2021-01-06'],\n",
       "              dtype='datetime64[ns]', freq='D')"
      ]
     },
     "metadata": {},
     "execution_count": 4
    }
   ],
   "source": [
    "x = pd.date_range('20210101', periods=6)\n",
    "x"
   ]
  },
  {
   "cell_type": "code",
   "execution_count": 5,
   "metadata": {},
   "outputs": [
    {
     "output_type": "execute_result",
     "data": {
      "text/plain": [
       "                   A         B         C         D\n",
       "2021-01-01 -1.941678  0.076270 -0.325770 -0.415459\n",
       "2021-01-02  1.326525 -0.214701  0.022079  0.887874\n",
       "2021-01-03  0.891641  1.239267  0.220368  0.540827\n",
       "2021-01-04 -0.229054  0.233816 -1.870031  0.603779\n",
       "2021-01-05 -1.188709  0.204488 -0.322705 -0.724128\n",
       "2021-01-06  0.346631  2.239994  2.285553 -0.229533"
      ],
      "text/html": "<div>\n<style scoped>\n    .dataframe tbody tr th:only-of-type {\n        vertical-align: middle;\n    }\n\n    .dataframe tbody tr th {\n        vertical-align: top;\n    }\n\n    .dataframe thead th {\n        text-align: right;\n    }\n</style>\n<table border=\"1\" class=\"dataframe\">\n  <thead>\n    <tr style=\"text-align: right;\">\n      <th></th>\n      <th>A</th>\n      <th>B</th>\n      <th>C</th>\n      <th>D</th>\n    </tr>\n  </thead>\n  <tbody>\n    <tr>\n      <th>2021-01-01</th>\n      <td>-1.941678</td>\n      <td>0.076270</td>\n      <td>-0.325770</td>\n      <td>-0.415459</td>\n    </tr>\n    <tr>\n      <th>2021-01-02</th>\n      <td>1.326525</td>\n      <td>-0.214701</td>\n      <td>0.022079</td>\n      <td>0.887874</td>\n    </tr>\n    <tr>\n      <th>2021-01-03</th>\n      <td>0.891641</td>\n      <td>1.239267</td>\n      <td>0.220368</td>\n      <td>0.540827</td>\n    </tr>\n    <tr>\n      <th>2021-01-04</th>\n      <td>-0.229054</td>\n      <td>0.233816</td>\n      <td>-1.870031</td>\n      <td>0.603779</td>\n    </tr>\n    <tr>\n      <th>2021-01-05</th>\n      <td>-1.188709</td>\n      <td>0.204488</td>\n      <td>-0.322705</td>\n      <td>-0.724128</td>\n    </tr>\n    <tr>\n      <th>2021-01-06</th>\n      <td>0.346631</td>\n      <td>2.239994</td>\n      <td>2.285553</td>\n      <td>-0.229533</td>\n    </tr>\n  </tbody>\n</table>\n</div>"
     },
     "metadata": {},
     "execution_count": 5
    }
   ],
   "source": [
    "df = pd.DataFrame(np.random.randn(6, 4), index=x, columns=list('ABCD'))\n",
    "df"
   ]
  },
  {
   "cell_type": "code",
   "execution_count": 6,
   "metadata": {},
   "outputs": [
    {
     "output_type": "execute_result",
     "data": {
      "text/plain": [
       "              A         B         C         D\n",
       "count  6.000000  6.000000  6.000000  6.000000\n",
       "mean  -0.132441  0.629855  0.001582  0.110560\n",
       "std    1.249417  0.929671  1.340154  0.651410\n",
       "min   -1.941678 -0.214701 -1.870031 -0.724128\n",
       "25%   -0.948795  0.108324 -0.325004 -0.368977\n",
       "50%    0.058789  0.219152 -0.150313  0.155647\n",
       "75%    0.755389  0.987904  0.170796  0.588041\n",
       "max    1.326525  2.239994  2.285553  0.887874"
      ],
      "text/html": "<div>\n<style scoped>\n    .dataframe tbody tr th:only-of-type {\n        vertical-align: middle;\n    }\n\n    .dataframe tbody tr th {\n        vertical-align: top;\n    }\n\n    .dataframe thead th {\n        text-align: right;\n    }\n</style>\n<table border=\"1\" class=\"dataframe\">\n  <thead>\n    <tr style=\"text-align: right;\">\n      <th></th>\n      <th>A</th>\n      <th>B</th>\n      <th>C</th>\n      <th>D</th>\n    </tr>\n  </thead>\n  <tbody>\n    <tr>\n      <th>count</th>\n      <td>6.000000</td>\n      <td>6.000000</td>\n      <td>6.000000</td>\n      <td>6.000000</td>\n    </tr>\n    <tr>\n      <th>mean</th>\n      <td>-0.132441</td>\n      <td>0.629855</td>\n      <td>0.001582</td>\n      <td>0.110560</td>\n    </tr>\n    <tr>\n      <th>std</th>\n      <td>1.249417</td>\n      <td>0.929671</td>\n      <td>1.340154</td>\n      <td>0.651410</td>\n    </tr>\n    <tr>\n      <th>min</th>\n      <td>-1.941678</td>\n      <td>-0.214701</td>\n      <td>-1.870031</td>\n      <td>-0.724128</td>\n    </tr>\n    <tr>\n      <th>25%</th>\n      <td>-0.948795</td>\n      <td>0.108324</td>\n      <td>-0.325004</td>\n      <td>-0.368977</td>\n    </tr>\n    <tr>\n      <th>50%</th>\n      <td>0.058789</td>\n      <td>0.219152</td>\n      <td>-0.150313</td>\n      <td>0.155647</td>\n    </tr>\n    <tr>\n      <th>75%</th>\n      <td>0.755389</td>\n      <td>0.987904</td>\n      <td>0.170796</td>\n      <td>0.588041</td>\n    </tr>\n    <tr>\n      <th>max</th>\n      <td>1.326525</td>\n      <td>2.239994</td>\n      <td>2.285553</td>\n      <td>0.887874</td>\n    </tr>\n  </tbody>\n</table>\n</div>"
     },
     "metadata": {},
     "execution_count": 6
    }
   ],
   "source": [
    "df.describe()"
   ]
  },
  {
   "source": [
    "Creating a [DataFrame](https://pandas.pydata.org/docs/reference/api/pandas.DataFrame.html#pandas.DataFrame) by passing a dict of objects that can be converted to series-like."
   ],
   "cell_type": "markdown",
   "metadata": {}
  },
  {
   "cell_type": "code",
   "execution_count": 7,
   "metadata": {},
   "outputs": [
    {
     "output_type": "execute_result",
     "data": {
      "text/plain": [
       "     A          B    C  D      E    F\n",
       "0  1.0 2021-01-01  1.0  3   test  foo\n",
       "1  1.0 2021-01-01  1.0  3  train  foo\n",
       "2  1.0 2021-01-01  1.0  3   test  foo\n",
       "3  1.0 2021-01-01  1.0  3  train  foo"
      ],
      "text/html": "<div>\n<style scoped>\n    .dataframe tbody tr th:only-of-type {\n        vertical-align: middle;\n    }\n\n    .dataframe tbody tr th {\n        vertical-align: top;\n    }\n\n    .dataframe thead th {\n        text-align: right;\n    }\n</style>\n<table border=\"1\" class=\"dataframe\">\n  <thead>\n    <tr style=\"text-align: right;\">\n      <th></th>\n      <th>A</th>\n      <th>B</th>\n      <th>C</th>\n      <th>D</th>\n      <th>E</th>\n      <th>F</th>\n    </tr>\n  </thead>\n  <tbody>\n    <tr>\n      <th>0</th>\n      <td>1.0</td>\n      <td>2021-01-01</td>\n      <td>1.0</td>\n      <td>3</td>\n      <td>test</td>\n      <td>foo</td>\n    </tr>\n    <tr>\n      <th>1</th>\n      <td>1.0</td>\n      <td>2021-01-01</td>\n      <td>1.0</td>\n      <td>3</td>\n      <td>train</td>\n      <td>foo</td>\n    </tr>\n    <tr>\n      <th>2</th>\n      <td>1.0</td>\n      <td>2021-01-01</td>\n      <td>1.0</td>\n      <td>3</td>\n      <td>test</td>\n      <td>foo</td>\n    </tr>\n    <tr>\n      <th>3</th>\n      <td>1.0</td>\n      <td>2021-01-01</td>\n      <td>1.0</td>\n      <td>3</td>\n      <td>train</td>\n      <td>foo</td>\n    </tr>\n  </tbody>\n</table>\n</div>"
     },
     "metadata": {},
     "execution_count": 7
    }
   ],
   "source": [
    "df2 = pd.DataFrame(\n",
    "    {\n",
    "        'A': 1.0,\n",
    "        'B': pd.Timestamp('20210101'),\n",
    "        'C': pd.Series(1, index=list(range(4)), dtype='float64'),\n",
    "        'D': np.array([3]*4, dtype='int64'),\n",
    "        'E': pd.Categorical(['test', 'train', 'test', 'train']),\n",
    "        'F': 'foo',\n",
    "    }\n",
    ")\n",
    "\n",
    "df2"
   ]
  },
  {
   "source": [
    "Interesting. A single entry (such as 1 of column A, timestamp of column B, and so on) are just extended.\n",
    "\n",
    "In this example, the number of records seems to be determined by this line:\n",
    "\n",
    "```\n",
    "        'C': pd.Series(1, index=list(range(4)), dtype='float64'),\n",
    "```\n",
    "\n",
    "This determines the number of records of this DataFrame is four.\n",
    "\n",
    "Columns A, B, and F are just a single entry. They are made to a [Series](https://pandas.pydata.org/docs/reference/api/pandas.Series.html#pandas.Series). Scalar `1` is turned to `[1, 1, 1, 1]`.\n",
    "\n",
    "\n",
    "If you give 5 as multiplier on column D:\n",
    "```\n",
    "        'D': np.array([3]*5, dtype='int64'),\n",
    "```\n",
    "\n",
    "Pandas complains that the number of records is not consistent with other part of code.\n",
    "\n",
    "Also, Pandas cannot extend a list. If you give this on column E:\n",
    "```\n",
    "        'E': pd.Categorical(['test', 'train']),\n",
    "```\n",
    "Pandas does not bother to repeat this 2-entry list and make it four.\n",
    "\n",
    "\n",
    "This is much like broadcasting of Excel [Dynamic Arrays](https://techcommunity.microsoft.com/t5/excel-blog/preview-of-dynamic-arrays-in-excel/ba-p/252944).\n",
    "\n",
    "[R](https://www.r-project.org/) takes a different approach when it finds a situation like this. It tries to extend/multiply to make its series fit to the entire dataframe.\n",
    "\n",
    "Different languages takes different approaches. Very interesting."
   ],
   "cell_type": "markdown",
   "metadata": {}
  },
  {
   "cell_type": "code",
   "execution_count": 8,
   "metadata": {},
   "outputs": [
    {
     "output_type": "execute_result",
     "data": {
      "text/plain": [
       "A           float64\n",
       "B    datetime64[ns]\n",
       "C           float64\n",
       "D             int64\n",
       "E          category\n",
       "F            object\n",
       "dtype: object"
      ]
     },
     "metadata": {},
     "execution_count": 8
    }
   ],
   "source": [
    "df2.dtypes"
   ]
  },
  {
   "source": [
    "### [Viewing data](https://pandas.pydata.org/docs/user_guide/10min.html#viewing-data)"
   ],
   "cell_type": "markdown",
   "metadata": {}
  },
  {
   "cell_type": "code",
   "execution_count": 9,
   "metadata": {},
   "outputs": [
    {
     "output_type": "execute_result",
     "data": {
      "text/plain": [
       "DatetimeIndex(['2021-01-01', '2021-01-02', '2021-01-03', '2021-01-04',\n",
       "               '2021-01-05', '2021-01-06'],\n",
       "              dtype='datetime64[ns]', freq='D')"
      ]
     },
     "metadata": {},
     "execution_count": 9
    }
   ],
   "source": [
    "df.index"
   ]
  },
  {
   "cell_type": "code",
   "execution_count": 10,
   "metadata": {},
   "outputs": [
    {
     "output_type": "execute_result",
     "data": {
      "text/plain": [
       "Index(['A', 'B', 'C', 'D'], dtype='object')"
      ]
     },
     "metadata": {},
     "execution_count": 10
    }
   ],
   "source": [
    "df.columns"
   ]
  },
  {
   "cell_type": "code",
   "execution_count": 11,
   "metadata": {},
   "outputs": [
    {
     "output_type": "execute_result",
     "data": {
      "text/plain": [
       "   2021-01-01  2021-01-02  2021-01-03  2021-01-04  2021-01-05  2021-01-06\n",
       "A   -1.941678    1.326525    0.891641   -0.229054   -1.188709    0.346631\n",
       "B    0.076270   -0.214701    1.239267    0.233816    0.204488    2.239994\n",
       "C   -0.325770    0.022079    0.220368   -1.870031   -0.322705    2.285553\n",
       "D   -0.415459    0.887874    0.540827    0.603779   -0.724128   -0.229533"
      ],
      "text/html": "<div>\n<style scoped>\n    .dataframe tbody tr th:only-of-type {\n        vertical-align: middle;\n    }\n\n    .dataframe tbody tr th {\n        vertical-align: top;\n    }\n\n    .dataframe thead th {\n        text-align: right;\n    }\n</style>\n<table border=\"1\" class=\"dataframe\">\n  <thead>\n    <tr style=\"text-align: right;\">\n      <th></th>\n      <th>2021-01-01</th>\n      <th>2021-01-02</th>\n      <th>2021-01-03</th>\n      <th>2021-01-04</th>\n      <th>2021-01-05</th>\n      <th>2021-01-06</th>\n    </tr>\n  </thead>\n  <tbody>\n    <tr>\n      <th>A</th>\n      <td>-1.941678</td>\n      <td>1.326525</td>\n      <td>0.891641</td>\n      <td>-0.229054</td>\n      <td>-1.188709</td>\n      <td>0.346631</td>\n    </tr>\n    <tr>\n      <th>B</th>\n      <td>0.076270</td>\n      <td>-0.214701</td>\n      <td>1.239267</td>\n      <td>0.233816</td>\n      <td>0.204488</td>\n      <td>2.239994</td>\n    </tr>\n    <tr>\n      <th>C</th>\n      <td>-0.325770</td>\n      <td>0.022079</td>\n      <td>0.220368</td>\n      <td>-1.870031</td>\n      <td>-0.322705</td>\n      <td>2.285553</td>\n    </tr>\n    <tr>\n      <th>D</th>\n      <td>-0.415459</td>\n      <td>0.887874</td>\n      <td>0.540827</td>\n      <td>0.603779</td>\n      <td>-0.724128</td>\n      <td>-0.229533</td>\n    </tr>\n  </tbody>\n</table>\n</div>"
     },
     "metadata": {},
     "execution_count": 11
    }
   ],
   "source": [
    "# Transposing\n",
    "\n",
    "df.T"
   ]
  },
  {
   "cell_type": "code",
   "execution_count": 12,
   "metadata": {},
   "outputs": [
    {
     "output_type": "execute_result",
     "data": {
      "text/plain": [
       "                   A         B         C         D\n",
       "2021-01-02  1.326525 -0.214701  0.022079  0.887874\n",
       "2021-01-01 -1.941678  0.076270 -0.325770 -0.415459\n",
       "2021-01-05 -1.188709  0.204488 -0.322705 -0.724128\n",
       "2021-01-04 -0.229054  0.233816 -1.870031  0.603779\n",
       "2021-01-03  0.891641  1.239267  0.220368  0.540827\n",
       "2021-01-06  0.346631  2.239994  2.285553 -0.229533"
      ],
      "text/html": "<div>\n<style scoped>\n    .dataframe tbody tr th:only-of-type {\n        vertical-align: middle;\n    }\n\n    .dataframe tbody tr th {\n        vertical-align: top;\n    }\n\n    .dataframe thead th {\n        text-align: right;\n    }\n</style>\n<table border=\"1\" class=\"dataframe\">\n  <thead>\n    <tr style=\"text-align: right;\">\n      <th></th>\n      <th>A</th>\n      <th>B</th>\n      <th>C</th>\n      <th>D</th>\n    </tr>\n  </thead>\n  <tbody>\n    <tr>\n      <th>2021-01-02</th>\n      <td>1.326525</td>\n      <td>-0.214701</td>\n      <td>0.022079</td>\n      <td>0.887874</td>\n    </tr>\n    <tr>\n      <th>2021-01-01</th>\n      <td>-1.941678</td>\n      <td>0.076270</td>\n      <td>-0.325770</td>\n      <td>-0.415459</td>\n    </tr>\n    <tr>\n      <th>2021-01-05</th>\n      <td>-1.188709</td>\n      <td>0.204488</td>\n      <td>-0.322705</td>\n      <td>-0.724128</td>\n    </tr>\n    <tr>\n      <th>2021-01-04</th>\n      <td>-0.229054</td>\n      <td>0.233816</td>\n      <td>-1.870031</td>\n      <td>0.603779</td>\n    </tr>\n    <tr>\n      <th>2021-01-03</th>\n      <td>0.891641</td>\n      <td>1.239267</td>\n      <td>0.220368</td>\n      <td>0.540827</td>\n    </tr>\n    <tr>\n      <th>2021-01-06</th>\n      <td>0.346631</td>\n      <td>2.239994</td>\n      <td>2.285553</td>\n      <td>-0.229533</td>\n    </tr>\n  </tbody>\n</table>\n</div>"
     },
     "metadata": {},
     "execution_count": 12
    }
   ],
   "source": [
    "df.sort_values(by='B')"
   ]
  },
  {
   "source": [
    "### [Selection](https://pandas.pydata.org/docs/user_guide/10min.html#selection)"
   ],
   "cell_type": "markdown",
   "metadata": {}
  },
  {
   "cell_type": "code",
   "execution_count": 13,
   "metadata": {},
   "outputs": [
    {
     "output_type": "execute_result",
     "data": {
      "text/plain": [
       "2021-01-01   -1.941678\n",
       "2021-01-02    1.326525\n",
       "2021-01-03    0.891641\n",
       "2021-01-04   -0.229054\n",
       "2021-01-05   -1.188709\n",
       "2021-01-06    0.346631\n",
       "Freq: D, Name: A, dtype: float64"
      ]
     },
     "metadata": {},
     "execution_count": 13
    }
   ],
   "source": [
    "### Selecting one column\n",
    "df['A']\n",
    "### This returns a Series."
   ]
  },
  {
   "cell_type": "code",
   "execution_count": 14,
   "metadata": {},
   "outputs": [
    {
     "output_type": "execute_result",
     "data": {
      "text/plain": [
       "2021-01-01   -1.941678\n",
       "2021-01-02    1.326525\n",
       "2021-01-03    0.891641\n",
       "2021-01-04   -0.229054\n",
       "2021-01-05   -1.188709\n",
       "2021-01-06    0.346631\n",
       "Freq: D, Name: A, dtype: float64"
      ]
     },
     "metadata": {},
     "execution_count": 14
    }
   ],
   "source": [
    "df.A"
   ]
  },
  {
   "cell_type": "code",
   "execution_count": 15,
   "metadata": {},
   "outputs": [
    {
     "output_type": "execute_result",
     "data": {
      "text/plain": [
       "                   B         D\n",
       "2021-01-01  0.076270 -0.415459\n",
       "2021-01-02 -0.214701  0.887874\n",
       "2021-01-03  1.239267  0.540827\n",
       "2021-01-04  0.233816  0.603779\n",
       "2021-01-05  0.204488 -0.724128\n",
       "2021-01-06  2.239994 -0.229533"
      ],
      "text/html": "<div>\n<style scoped>\n    .dataframe tbody tr th:only-of-type {\n        vertical-align: middle;\n    }\n\n    .dataframe tbody tr th {\n        vertical-align: top;\n    }\n\n    .dataframe thead th {\n        text-align: right;\n    }\n</style>\n<table border=\"1\" class=\"dataframe\">\n  <thead>\n    <tr style=\"text-align: right;\">\n      <th></th>\n      <th>B</th>\n      <th>D</th>\n    </tr>\n  </thead>\n  <tbody>\n    <tr>\n      <th>2021-01-01</th>\n      <td>0.076270</td>\n      <td>-0.415459</td>\n    </tr>\n    <tr>\n      <th>2021-01-02</th>\n      <td>-0.214701</td>\n      <td>0.887874</td>\n    </tr>\n    <tr>\n      <th>2021-01-03</th>\n      <td>1.239267</td>\n      <td>0.540827</td>\n    </tr>\n    <tr>\n      <th>2021-01-04</th>\n      <td>0.233816</td>\n      <td>0.603779</td>\n    </tr>\n    <tr>\n      <th>2021-01-05</th>\n      <td>0.204488</td>\n      <td>-0.724128</td>\n    </tr>\n    <tr>\n      <th>2021-01-06</th>\n      <td>2.239994</td>\n      <td>-0.229533</td>\n    </tr>\n  </tbody>\n</table>\n</div>"
     },
     "metadata": {},
     "execution_count": 15
    }
   ],
   "source": [
    "### Selecting multiple columns\n",
    "df[['B', 'D']]"
   ]
  },
  {
   "cell_type": "code",
   "execution_count": 16,
   "metadata": {},
   "outputs": [
    {
     "output_type": "execute_result",
     "data": {
      "text/plain": [
       "                   A         B         C         D\n",
       "2021-01-01 -1.941678  0.076270 -0.325770 -0.415459\n",
       "2021-01-02  1.326525 -0.214701  0.022079  0.887874"
      ],
      "text/html": "<div>\n<style scoped>\n    .dataframe tbody tr th:only-of-type {\n        vertical-align: middle;\n    }\n\n    .dataframe tbody tr th {\n        vertical-align: top;\n    }\n\n    .dataframe thead th {\n        text-align: right;\n    }\n</style>\n<table border=\"1\" class=\"dataframe\">\n  <thead>\n    <tr style=\"text-align: right;\">\n      <th></th>\n      <th>A</th>\n      <th>B</th>\n      <th>C</th>\n      <th>D</th>\n    </tr>\n  </thead>\n  <tbody>\n    <tr>\n      <th>2021-01-01</th>\n      <td>-1.941678</td>\n      <td>0.076270</td>\n      <td>-0.325770</td>\n      <td>-0.415459</td>\n    </tr>\n    <tr>\n      <th>2021-01-02</th>\n      <td>1.326525</td>\n      <td>-0.214701</td>\n      <td>0.022079</td>\n      <td>0.887874</td>\n    </tr>\n  </tbody>\n</table>\n</div>"
     },
     "metadata": {},
     "execution_count": 16
    }
   ],
   "source": [
    "### Slicing also works on rows. Interesting at best, confusing for beginners.\n",
    "df[0:2]"
   ]
  },
  {
   "cell_type": "code",
   "execution_count": 17,
   "metadata": {},
   "outputs": [
    {
     "output_type": "execute_result",
     "data": {
      "text/plain": [
       "                   A         B         C         D\n",
       "2021-01-02  1.326525 -0.214701  0.022079  0.887874\n",
       "2021-01-03  0.891641  1.239267  0.220368  0.540827\n",
       "2021-01-04 -0.229054  0.233816 -1.870031  0.603779"
      ],
      "text/html": "<div>\n<style scoped>\n    .dataframe tbody tr th:only-of-type {\n        vertical-align: middle;\n    }\n\n    .dataframe tbody tr th {\n        vertical-align: top;\n    }\n\n    .dataframe thead th {\n        text-align: right;\n    }\n</style>\n<table border=\"1\" class=\"dataframe\">\n  <thead>\n    <tr style=\"text-align: right;\">\n      <th></th>\n      <th>A</th>\n      <th>B</th>\n      <th>C</th>\n      <th>D</th>\n    </tr>\n  </thead>\n  <tbody>\n    <tr>\n      <th>2021-01-02</th>\n      <td>1.326525</td>\n      <td>-0.214701</td>\n      <td>0.022079</td>\n      <td>0.887874</td>\n    </tr>\n    <tr>\n      <th>2021-01-03</th>\n      <td>0.891641</td>\n      <td>1.239267</td>\n      <td>0.220368</td>\n      <td>0.540827</td>\n    </tr>\n    <tr>\n      <th>2021-01-04</th>\n      <td>-0.229054</td>\n      <td>0.233816</td>\n      <td>-1.870031</td>\n      <td>0.603779</td>\n    </tr>\n  </tbody>\n</table>\n</div>"
     },
     "metadata": {},
     "execution_count": 17
    }
   ],
   "source": [
    "### Also works on index. Wow...\n",
    "df['20210102':'20210104']"
   ]
  },
  {
   "source": [
    "### [Selection by label](https://pandas.pydata.org/docs/user_guide/10min.html#selection-by-label)\n",
    "\n",
    "[pandas.DataFrame.loc()](https://pandas.pydata.org/pandas-docs/stable/reference/api/pandas.DataFrame.loc.html) has a variety of usages."
   ],
   "cell_type": "markdown",
   "metadata": {}
  },
  {
   "cell_type": "code",
   "execution_count": 18,
   "metadata": {},
   "outputs": [
    {
     "output_type": "execute_result",
     "data": {
      "text/plain": [
       "A    1.326525\n",
       "B   -0.214701\n",
       "C    0.022079\n",
       "D    0.887874\n",
       "Name: 2021-01-02 00:00:00, dtype: float64"
      ]
     },
     "metadata": {},
     "execution_count": 18
    }
   ],
   "source": [
    "# selecting a row\n",
    "df.loc[x[1]]"
   ]
  },
  {
   "cell_type": "code",
   "execution_count": 19,
   "metadata": {},
   "outputs": [
    {
     "output_type": "execute_result",
     "data": {
      "text/plain": [
       "                   B         D\n",
       "2021-01-01  0.076270 -0.415459\n",
       "2021-01-02 -0.214701  0.887874\n",
       "2021-01-03  1.239267  0.540827\n",
       "2021-01-04  0.233816  0.603779\n",
       "2021-01-05  0.204488 -0.724128\n",
       "2021-01-06  2.239994 -0.229533"
      ],
      "text/html": "<div>\n<style scoped>\n    .dataframe tbody tr th:only-of-type {\n        vertical-align: middle;\n    }\n\n    .dataframe tbody tr th {\n        vertical-align: top;\n    }\n\n    .dataframe thead th {\n        text-align: right;\n    }\n</style>\n<table border=\"1\" class=\"dataframe\">\n  <thead>\n    <tr style=\"text-align: right;\">\n      <th></th>\n      <th>B</th>\n      <th>D</th>\n    </tr>\n  </thead>\n  <tbody>\n    <tr>\n      <th>2021-01-01</th>\n      <td>0.076270</td>\n      <td>-0.415459</td>\n    </tr>\n    <tr>\n      <th>2021-01-02</th>\n      <td>-0.214701</td>\n      <td>0.887874</td>\n    </tr>\n    <tr>\n      <th>2021-01-03</th>\n      <td>1.239267</td>\n      <td>0.540827</td>\n    </tr>\n    <tr>\n      <th>2021-01-04</th>\n      <td>0.233816</td>\n      <td>0.603779</td>\n    </tr>\n    <tr>\n      <th>2021-01-05</th>\n      <td>0.204488</td>\n      <td>-0.724128</td>\n    </tr>\n    <tr>\n      <th>2021-01-06</th>\n      <td>2.239994</td>\n      <td>-0.229533</td>\n    </tr>\n  </tbody>\n</table>\n</div>"
     },
     "metadata": {},
     "execution_count": 19
    }
   ],
   "source": [
    "df.loc[:, ('B', 'D')]"
   ]
  },
  {
   "cell_type": "code",
   "execution_count": 20,
   "metadata": {},
   "outputs": [
    {
     "output_type": "execute_result",
     "data": {
      "text/plain": [
       "                   B         C         D\n",
       "2021-01-01  0.076270 -0.325770 -0.415459\n",
       "2021-01-02 -0.214701  0.022079  0.887874\n",
       "2021-01-03  1.239267  0.220368  0.540827\n",
       "2021-01-04  0.233816 -1.870031  0.603779\n",
       "2021-01-05  0.204488 -0.322705 -0.724128\n",
       "2021-01-06  2.239994  2.285553 -0.229533"
      ],
      "text/html": "<div>\n<style scoped>\n    .dataframe tbody tr th:only-of-type {\n        vertical-align: middle;\n    }\n\n    .dataframe tbody tr th {\n        vertical-align: top;\n    }\n\n    .dataframe thead th {\n        text-align: right;\n    }\n</style>\n<table border=\"1\" class=\"dataframe\">\n  <thead>\n    <tr style=\"text-align: right;\">\n      <th></th>\n      <th>B</th>\n      <th>C</th>\n      <th>D</th>\n    </tr>\n  </thead>\n  <tbody>\n    <tr>\n      <th>2021-01-01</th>\n      <td>0.076270</td>\n      <td>-0.325770</td>\n      <td>-0.415459</td>\n    </tr>\n    <tr>\n      <th>2021-01-02</th>\n      <td>-0.214701</td>\n      <td>0.022079</td>\n      <td>0.887874</td>\n    </tr>\n    <tr>\n      <th>2021-01-03</th>\n      <td>1.239267</td>\n      <td>0.220368</td>\n      <td>0.540827</td>\n    </tr>\n    <tr>\n      <th>2021-01-04</th>\n      <td>0.233816</td>\n      <td>-1.870031</td>\n      <td>0.603779</td>\n    </tr>\n    <tr>\n      <th>2021-01-05</th>\n      <td>0.204488</td>\n      <td>-0.322705</td>\n      <td>-0.724128</td>\n    </tr>\n    <tr>\n      <th>2021-01-06</th>\n      <td>2.239994</td>\n      <td>2.285553</td>\n      <td>-0.229533</td>\n    </tr>\n  </tbody>\n</table>\n</div>"
     },
     "metadata": {},
     "execution_count": 20
    }
   ],
   "source": [
    "df.loc[:, 'B':'D']"
   ]
  },
  {
   "cell_type": "code",
   "execution_count": 21,
   "metadata": {},
   "outputs": [
    {
     "output_type": "execute_result",
     "data": {
      "text/plain": [
       "                   A         C\n",
       "2021-01-01 -1.941678 -0.325770\n",
       "2021-01-02  1.326525  0.022079\n",
       "2021-01-03  0.891641  0.220368"
      ],
      "text/html": "<div>\n<style scoped>\n    .dataframe tbody tr th:only-of-type {\n        vertical-align: middle;\n    }\n\n    .dataframe tbody tr th {\n        vertical-align: top;\n    }\n\n    .dataframe thead th {\n        text-align: right;\n    }\n</style>\n<table border=\"1\" class=\"dataframe\">\n  <thead>\n    <tr style=\"text-align: right;\">\n      <th></th>\n      <th>A</th>\n      <th>C</th>\n    </tr>\n  </thead>\n  <tbody>\n    <tr>\n      <th>2021-01-01</th>\n      <td>-1.941678</td>\n      <td>-0.325770</td>\n    </tr>\n    <tr>\n      <th>2021-01-02</th>\n      <td>1.326525</td>\n      <td>0.022079</td>\n    </tr>\n    <tr>\n      <th>2021-01-03</th>\n      <td>0.891641</td>\n      <td>0.220368</td>\n    </tr>\n  </tbody>\n</table>\n</div>"
     },
     "metadata": {},
     "execution_count": 21
    }
   ],
   "source": [
    "df.loc['20210101':'20210103', ('A', 'C')]"
   ]
  },
  {
   "source": [
    "okay, so DataFrame.loc() takes row as first argument, columns as second. Looks like that."
   ],
   "cell_type": "markdown",
   "metadata": {}
  },
  {
   "source": [
    "### [Seelction by position](https://pandas.pydata.org/docs/user_guide/10min.html#selection-by-position)\n",
    "\n",
    "[pandas.DataFrame.iloc()](https://pandas.pydata.org/pandas-docs/stable/reference/api/pandas.DataFrame.iloc.html) lets you select by integer index."
   ],
   "cell_type": "markdown",
   "metadata": {}
  },
  {
   "source": [
    "### [Boolean indexing](https://pandas.pydata.org/docs/user_guide/10min.html#boolean-indexing)"
   ],
   "cell_type": "markdown",
   "metadata": {}
  },
  {
   "cell_type": "code",
   "execution_count": 22,
   "metadata": {},
   "outputs": [
    {
     "output_type": "execute_result",
     "data": {
      "text/plain": [
       "2021-01-01    False\n",
       "2021-01-02     True\n",
       "2021-01-03     True\n",
       "2021-01-04    False\n",
       "2021-01-05    False\n",
       "2021-01-06     True\n",
       "Freq: D, Name: A, dtype: bool"
      ]
     },
     "metadata": {},
     "execution_count": 22
    }
   ],
   "source": [
    "df['A'] > 0"
   ]
  },
  {
   "cell_type": "code",
   "execution_count": 23,
   "metadata": {},
   "outputs": [
    {
     "output_type": "execute_result",
     "data": {
      "text/plain": [
       "                   A         B         C         D\n",
       "2021-01-02  1.326525 -0.214701  0.022079  0.887874\n",
       "2021-01-03  0.891641  1.239267  0.220368  0.540827\n",
       "2021-01-06  0.346631  2.239994  2.285553 -0.229533"
      ],
      "text/html": "<div>\n<style scoped>\n    .dataframe tbody tr th:only-of-type {\n        vertical-align: middle;\n    }\n\n    .dataframe tbody tr th {\n        vertical-align: top;\n    }\n\n    .dataframe thead th {\n        text-align: right;\n    }\n</style>\n<table border=\"1\" class=\"dataframe\">\n  <thead>\n    <tr style=\"text-align: right;\">\n      <th></th>\n      <th>A</th>\n      <th>B</th>\n      <th>C</th>\n      <th>D</th>\n    </tr>\n  </thead>\n  <tbody>\n    <tr>\n      <th>2021-01-02</th>\n      <td>1.326525</td>\n      <td>-0.214701</td>\n      <td>0.022079</td>\n      <td>0.887874</td>\n    </tr>\n    <tr>\n      <th>2021-01-03</th>\n      <td>0.891641</td>\n      <td>1.239267</td>\n      <td>0.220368</td>\n      <td>0.540827</td>\n    </tr>\n    <tr>\n      <th>2021-01-06</th>\n      <td>0.346631</td>\n      <td>2.239994</td>\n      <td>2.285553</td>\n      <td>-0.229533</td>\n    </tr>\n  </tbody>\n</table>\n</div>"
     },
     "metadata": {},
     "execution_count": 23
    }
   ],
   "source": [
    "df[df['A']>0]\n",
    "# In this tutorial, this is called a where operation."
   ]
  },
  {
   "cell_type": "code",
   "execution_count": 24,
   "metadata": {},
   "outputs": [
    {
     "output_type": "execute_result",
     "data": {
      "text/plain": [
       "                   A         B         C         D\n",
       "2021-01-01 -1.941678  0.076270 -0.325770 -0.415459\n",
       "2021-01-02  1.326525 -0.214701  0.022079  0.887874\n",
       "2021-01-03  0.891641  1.239267  0.220368  0.540827\n",
       "2021-01-04 -0.229054  0.233816 -1.870031  0.603779\n",
       "2021-01-05 -1.188709  0.204488 -0.322705 -0.724128\n",
       "2021-01-06  0.346631  2.239994  2.285553 -0.229533"
      ],
      "text/html": "<div>\n<style scoped>\n    .dataframe tbody tr th:only-of-type {\n        vertical-align: middle;\n    }\n\n    .dataframe tbody tr th {\n        vertical-align: top;\n    }\n\n    .dataframe thead th {\n        text-align: right;\n    }\n</style>\n<table border=\"1\" class=\"dataframe\">\n  <thead>\n    <tr style=\"text-align: right;\">\n      <th></th>\n      <th>A</th>\n      <th>B</th>\n      <th>C</th>\n      <th>D</th>\n    </tr>\n  </thead>\n  <tbody>\n    <tr>\n      <th>2021-01-01</th>\n      <td>-1.941678</td>\n      <td>0.076270</td>\n      <td>-0.325770</td>\n      <td>-0.415459</td>\n    </tr>\n    <tr>\n      <th>2021-01-02</th>\n      <td>1.326525</td>\n      <td>-0.214701</td>\n      <td>0.022079</td>\n      <td>0.887874</td>\n    </tr>\n    <tr>\n      <th>2021-01-03</th>\n      <td>0.891641</td>\n      <td>1.239267</td>\n      <td>0.220368</td>\n      <td>0.540827</td>\n    </tr>\n    <tr>\n      <th>2021-01-04</th>\n      <td>-0.229054</td>\n      <td>0.233816</td>\n      <td>-1.870031</td>\n      <td>0.603779</td>\n    </tr>\n    <tr>\n      <th>2021-01-05</th>\n      <td>-1.188709</td>\n      <td>0.204488</td>\n      <td>-0.322705</td>\n      <td>-0.724128</td>\n    </tr>\n    <tr>\n      <th>2021-01-06</th>\n      <td>0.346631</td>\n      <td>2.239994</td>\n      <td>2.285553</td>\n      <td>-0.229533</td>\n    </tr>\n  </tbody>\n</table>\n</div>"
     },
     "metadata": {},
     "execution_count": 24
    }
   ],
   "source": [
    "df2 = df.copy()\n",
    "df2"
   ]
  },
  {
   "cell_type": "code",
   "execution_count": 25,
   "metadata": {},
   "outputs": [
    {
     "output_type": "execute_result",
     "data": {
      "text/plain": [
       "                   A         B         C         D      E\n",
       "2021-01-01 -1.941678  0.076270 -0.325770 -0.415459    one\n",
       "2021-01-02  1.326525 -0.214701  0.022079  0.887874    one\n",
       "2021-01-03  0.891641  1.239267  0.220368  0.540827    two\n",
       "2021-01-04 -0.229054  0.233816 -1.870031  0.603779  three\n",
       "2021-01-05 -1.188709  0.204488 -0.322705 -0.724128   four\n",
       "2021-01-06  0.346631  2.239994  2.285553 -0.229533  three"
      ],
      "text/html": "<div>\n<style scoped>\n    .dataframe tbody tr th:only-of-type {\n        vertical-align: middle;\n    }\n\n    .dataframe tbody tr th {\n        vertical-align: top;\n    }\n\n    .dataframe thead th {\n        text-align: right;\n    }\n</style>\n<table border=\"1\" class=\"dataframe\">\n  <thead>\n    <tr style=\"text-align: right;\">\n      <th></th>\n      <th>A</th>\n      <th>B</th>\n      <th>C</th>\n      <th>D</th>\n      <th>E</th>\n    </tr>\n  </thead>\n  <tbody>\n    <tr>\n      <th>2021-01-01</th>\n      <td>-1.941678</td>\n      <td>0.076270</td>\n      <td>-0.325770</td>\n      <td>-0.415459</td>\n      <td>one</td>\n    </tr>\n    <tr>\n      <th>2021-01-02</th>\n      <td>1.326525</td>\n      <td>-0.214701</td>\n      <td>0.022079</td>\n      <td>0.887874</td>\n      <td>one</td>\n    </tr>\n    <tr>\n      <th>2021-01-03</th>\n      <td>0.891641</td>\n      <td>1.239267</td>\n      <td>0.220368</td>\n      <td>0.540827</td>\n      <td>two</td>\n    </tr>\n    <tr>\n      <th>2021-01-04</th>\n      <td>-0.229054</td>\n      <td>0.233816</td>\n      <td>-1.870031</td>\n      <td>0.603779</td>\n      <td>three</td>\n    </tr>\n    <tr>\n      <th>2021-01-05</th>\n      <td>-1.188709</td>\n      <td>0.204488</td>\n      <td>-0.322705</td>\n      <td>-0.724128</td>\n      <td>four</td>\n    </tr>\n    <tr>\n      <th>2021-01-06</th>\n      <td>0.346631</td>\n      <td>2.239994</td>\n      <td>2.285553</td>\n      <td>-0.229533</td>\n      <td>three</td>\n    </tr>\n  </tbody>\n</table>\n</div>"
     },
     "metadata": {},
     "execution_count": 25
    }
   ],
   "source": [
    "df2['E'] = ('one', 'one', 'two', 'three', 'four', 'three')\n",
    "df2"
   ]
  },
  {
   "cell_type": "code",
   "execution_count": 26,
   "metadata": {},
   "outputs": [
    {
     "output_type": "execute_result",
     "data": {
      "text/plain": [
       "                   A         B         C         D      E\n",
       "2021-01-03  0.891641  1.239267  0.220368  0.540827    two\n",
       "2021-01-04 -0.229054  0.233816 -1.870031  0.603779  three\n",
       "2021-01-06  0.346631  2.239994  2.285553 -0.229533  three"
      ],
      "text/html": "<div>\n<style scoped>\n    .dataframe tbody tr th:only-of-type {\n        vertical-align: middle;\n    }\n\n    .dataframe tbody tr th {\n        vertical-align: top;\n    }\n\n    .dataframe thead th {\n        text-align: right;\n    }\n</style>\n<table border=\"1\" class=\"dataframe\">\n  <thead>\n    <tr style=\"text-align: right;\">\n      <th></th>\n      <th>A</th>\n      <th>B</th>\n      <th>C</th>\n      <th>D</th>\n      <th>E</th>\n    </tr>\n  </thead>\n  <tbody>\n    <tr>\n      <th>2021-01-03</th>\n      <td>0.891641</td>\n      <td>1.239267</td>\n      <td>0.220368</td>\n      <td>0.540827</td>\n      <td>two</td>\n    </tr>\n    <tr>\n      <th>2021-01-04</th>\n      <td>-0.229054</td>\n      <td>0.233816</td>\n      <td>-1.870031</td>\n      <td>0.603779</td>\n      <td>three</td>\n    </tr>\n    <tr>\n      <th>2021-01-06</th>\n      <td>0.346631</td>\n      <td>2.239994</td>\n      <td>2.285553</td>\n      <td>-0.229533</td>\n      <td>three</td>\n    </tr>\n  </tbody>\n</table>\n</div>"
     },
     "metadata": {},
     "execution_count": 26
    }
   ],
   "source": [
    "df2[df2['E'].isin(('two', 'three'))]"
   ]
  },
  {
   "source": [
    "### [Setting](https://pandas.pydata.org/docs/user_guide/10min.html#setting)"
   ],
   "cell_type": "markdown",
   "metadata": {}
  },
  {
   "cell_type": "code",
   "execution_count": 27,
   "metadata": {},
   "outputs": [
    {
     "output_type": "execute_result",
     "data": {
      "text/plain": [
       "2021-01-02    20\n",
       "2021-01-03    30\n",
       "2021-01-04    40\n",
       "2021-01-05    50\n",
       "2021-01-06    60\n",
       "2021-01-07    70\n",
       "Freq: D, dtype: int64"
      ]
     },
     "metadata": {},
     "execution_count": 27
    }
   ],
   "source": [
    "s1 = pd.Series((20, 30, 40, 50, 60, 70), index=pd.date_range('20210102', periods=6))\n",
    "s1\n",
    "\n",
    "# Note, Series or DataFrame basically need to have index attached to it."
   ]
  },
  {
   "cell_type": "code",
   "execution_count": 28,
   "metadata": {},
   "outputs": [
    {
     "output_type": "execute_result",
     "data": {
      "text/plain": [
       "                   A         B         C         D     F\n",
       "2021-01-01 -1.941678  0.076270 -0.325770 -0.415459   NaN\n",
       "2021-01-02  1.326525 -0.214701  0.022079  0.887874  20.0\n",
       "2021-01-03  0.891641  1.239267  0.220368  0.540827  30.0\n",
       "2021-01-04 -0.229054  0.233816 -1.870031  0.603779  40.0\n",
       "2021-01-05 -1.188709  0.204488 -0.322705 -0.724128  50.0\n",
       "2021-01-06  0.346631  2.239994  2.285553 -0.229533  60.0"
      ],
      "text/html": "<div>\n<style scoped>\n    .dataframe tbody tr th:only-of-type {\n        vertical-align: middle;\n    }\n\n    .dataframe tbody tr th {\n        vertical-align: top;\n    }\n\n    .dataframe thead th {\n        text-align: right;\n    }\n</style>\n<table border=\"1\" class=\"dataframe\">\n  <thead>\n    <tr style=\"text-align: right;\">\n      <th></th>\n      <th>A</th>\n      <th>B</th>\n      <th>C</th>\n      <th>D</th>\n      <th>F</th>\n    </tr>\n  </thead>\n  <tbody>\n    <tr>\n      <th>2021-01-01</th>\n      <td>-1.941678</td>\n      <td>0.076270</td>\n      <td>-0.325770</td>\n      <td>-0.415459</td>\n      <td>NaN</td>\n    </tr>\n    <tr>\n      <th>2021-01-02</th>\n      <td>1.326525</td>\n      <td>-0.214701</td>\n      <td>0.022079</td>\n      <td>0.887874</td>\n      <td>20.0</td>\n    </tr>\n    <tr>\n      <th>2021-01-03</th>\n      <td>0.891641</td>\n      <td>1.239267</td>\n      <td>0.220368</td>\n      <td>0.540827</td>\n      <td>30.0</td>\n    </tr>\n    <tr>\n      <th>2021-01-04</th>\n      <td>-0.229054</td>\n      <td>0.233816</td>\n      <td>-1.870031</td>\n      <td>0.603779</td>\n      <td>40.0</td>\n    </tr>\n    <tr>\n      <th>2021-01-05</th>\n      <td>-1.188709</td>\n      <td>0.204488</td>\n      <td>-0.322705</td>\n      <td>-0.724128</td>\n      <td>50.0</td>\n    </tr>\n    <tr>\n      <th>2021-01-06</th>\n      <td>0.346631</td>\n      <td>2.239994</td>\n      <td>2.285553</td>\n      <td>-0.229533</td>\n      <td>60.0</td>\n    </tr>\n  </tbody>\n</table>\n</div>"
     },
     "metadata": {},
     "execution_count": 28
    }
   ],
   "source": [
    "df['F'] = s1\n",
    "df"
   ]
  },
  {
   "source": [
    "Okay, note that entry of index `2021-01-07` in Series `s1` has been dropped when it is added to DataFrame `df`. This means what's important is the index of the DataFrame on the left hand side."
   ],
   "cell_type": "markdown",
   "metadata": {}
  },
  {
   "cell_type": "code",
   "execution_count": 29,
   "metadata": {},
   "outputs": [
    {
     "output_type": "execute_result",
     "data": {
      "text/plain": [
       "                   A         B           C         D     F\n",
       "2021-01-01 -1.941678  0.076270   -0.325770 -0.415459   NaN\n",
       "2021-01-02  1.326525 -0.214701    0.022079  0.887874  20.0\n",
       "2021-01-03  0.891641  1.239267  100.000000  0.540827  30.0\n",
       "2021-01-04 -0.229054  0.233816   -1.870031  0.603779  40.0\n",
       "2021-01-05 -1.188709  0.204488   -0.322705 -0.724128  50.0\n",
       "2021-01-06  0.346631  2.239994    2.285553 -0.229533  60.0"
      ],
      "text/html": "<div>\n<style scoped>\n    .dataframe tbody tr th:only-of-type {\n        vertical-align: middle;\n    }\n\n    .dataframe tbody tr th {\n        vertical-align: top;\n    }\n\n    .dataframe thead th {\n        text-align: right;\n    }\n</style>\n<table border=\"1\" class=\"dataframe\">\n  <thead>\n    <tr style=\"text-align: right;\">\n      <th></th>\n      <th>A</th>\n      <th>B</th>\n      <th>C</th>\n      <th>D</th>\n      <th>F</th>\n    </tr>\n  </thead>\n  <tbody>\n    <tr>\n      <th>2021-01-01</th>\n      <td>-1.941678</td>\n      <td>0.076270</td>\n      <td>-0.325770</td>\n      <td>-0.415459</td>\n      <td>NaN</td>\n    </tr>\n    <tr>\n      <th>2021-01-02</th>\n      <td>1.326525</td>\n      <td>-0.214701</td>\n      <td>0.022079</td>\n      <td>0.887874</td>\n      <td>20.0</td>\n    </tr>\n    <tr>\n      <th>2021-01-03</th>\n      <td>0.891641</td>\n      <td>1.239267</td>\n      <td>100.000000</td>\n      <td>0.540827</td>\n      <td>30.0</td>\n    </tr>\n    <tr>\n      <th>2021-01-04</th>\n      <td>-0.229054</td>\n      <td>0.233816</td>\n      <td>-1.870031</td>\n      <td>0.603779</td>\n      <td>40.0</td>\n    </tr>\n    <tr>\n      <th>2021-01-05</th>\n      <td>-1.188709</td>\n      <td>0.204488</td>\n      <td>-0.322705</td>\n      <td>-0.724128</td>\n      <td>50.0</td>\n    </tr>\n    <tr>\n      <th>2021-01-06</th>\n      <td>0.346631</td>\n      <td>2.239994</td>\n      <td>2.285553</td>\n      <td>-0.229533</td>\n      <td>60.0</td>\n    </tr>\n  </tbody>\n</table>\n</div>"
     },
     "metadata": {},
     "execution_count": 29
    }
   ],
   "source": [
    "# Set values by label\n",
    "df.at[x[2], 'C'] = 100\n",
    "df"
   ]
  },
  {
   "cell_type": "code",
   "execution_count": 30,
   "metadata": {},
   "outputs": [
    {
     "output_type": "execute_result",
     "data": {
      "text/plain": [
       "100.0"
      ]
     },
     "metadata": {},
     "execution_count": 30
    }
   ],
   "source": [
    "# iat let you specify by integer index\n",
    "df.iat[2, 2]"
   ]
  },
  {
   "cell_type": "code",
   "execution_count": 31,
   "metadata": {},
   "outputs": [
    {
     "output_type": "execute_result",
     "data": {
      "text/plain": [
       "                   A         B           C         D     F\n",
       "2021-01-01 -1.941678  0.076270   -0.325770 -0.415459   NaN\n",
       "2021-01-02  1.326525 -0.214701    0.022079  0.887874  20.0\n",
       "2021-01-03  0.891641  1.239267  150.000000  0.540827  30.0\n",
       "2021-01-04 -0.229054  0.233816   -1.870031  0.603779  40.0\n",
       "2021-01-05 -1.188709  0.204488   -0.322705 -0.724128  50.0\n",
       "2021-01-06  0.346631  2.239994    2.285553 -0.229533  60.0"
      ],
      "text/html": "<div>\n<style scoped>\n    .dataframe tbody tr th:only-of-type {\n        vertical-align: middle;\n    }\n\n    .dataframe tbody tr th {\n        vertical-align: top;\n    }\n\n    .dataframe thead th {\n        text-align: right;\n    }\n</style>\n<table border=\"1\" class=\"dataframe\">\n  <thead>\n    <tr style=\"text-align: right;\">\n      <th></th>\n      <th>A</th>\n      <th>B</th>\n      <th>C</th>\n      <th>D</th>\n      <th>F</th>\n    </tr>\n  </thead>\n  <tbody>\n    <tr>\n      <th>2021-01-01</th>\n      <td>-1.941678</td>\n      <td>0.076270</td>\n      <td>-0.325770</td>\n      <td>-0.415459</td>\n      <td>NaN</td>\n    </tr>\n    <tr>\n      <th>2021-01-02</th>\n      <td>1.326525</td>\n      <td>-0.214701</td>\n      <td>0.022079</td>\n      <td>0.887874</td>\n      <td>20.0</td>\n    </tr>\n    <tr>\n      <th>2021-01-03</th>\n      <td>0.891641</td>\n      <td>1.239267</td>\n      <td>150.000000</td>\n      <td>0.540827</td>\n      <td>30.0</td>\n    </tr>\n    <tr>\n      <th>2021-01-04</th>\n      <td>-0.229054</td>\n      <td>0.233816</td>\n      <td>-1.870031</td>\n      <td>0.603779</td>\n      <td>40.0</td>\n    </tr>\n    <tr>\n      <th>2021-01-05</th>\n      <td>-1.188709</td>\n      <td>0.204488</td>\n      <td>-0.322705</td>\n      <td>-0.724128</td>\n      <td>50.0</td>\n    </tr>\n    <tr>\n      <th>2021-01-06</th>\n      <td>0.346631</td>\n      <td>2.239994</td>\n      <td>2.285553</td>\n      <td>-0.229533</td>\n      <td>60.0</td>\n    </tr>\n  </tbody>\n</table>\n</div>"
     },
     "metadata": {},
     "execution_count": 31
    }
   ],
   "source": [
    "df.iat[2, 2] = 150\n",
    "df"
   ]
  },
  {
   "source": [
    "### [Missing data](https://pandas.pydata.org/docs/user_guide/10min.html#missing-data)"
   ],
   "cell_type": "markdown",
   "metadata": {}
  },
  {
   "cell_type": "code",
   "execution_count": 32,
   "metadata": {},
   "outputs": [
    {
     "output_type": "execute_result",
     "data": {
      "text/plain": [
       "                   A         B           C         D     F    E\n",
       "2021-01-01 -1.941678  0.076270   -0.325770 -0.415459   NaN  1.0\n",
       "2021-01-02  1.326525 -0.214701    0.022079  0.887874  20.0  1.0\n",
       "2021-01-03  0.891641  1.239267  150.000000  0.540827  30.0  NaN\n",
       "2021-01-04 -0.229054  0.233816   -1.870031  0.603779  40.0  NaN"
      ],
      "text/html": "<div>\n<style scoped>\n    .dataframe tbody tr th:only-of-type {\n        vertical-align: middle;\n    }\n\n    .dataframe tbody tr th {\n        vertical-align: top;\n    }\n\n    .dataframe thead th {\n        text-align: right;\n    }\n</style>\n<table border=\"1\" class=\"dataframe\">\n  <thead>\n    <tr style=\"text-align: right;\">\n      <th></th>\n      <th>A</th>\n      <th>B</th>\n      <th>C</th>\n      <th>D</th>\n      <th>F</th>\n      <th>E</th>\n    </tr>\n  </thead>\n  <tbody>\n    <tr>\n      <th>2021-01-01</th>\n      <td>-1.941678</td>\n      <td>0.076270</td>\n      <td>-0.325770</td>\n      <td>-0.415459</td>\n      <td>NaN</td>\n      <td>1.0</td>\n    </tr>\n    <tr>\n      <th>2021-01-02</th>\n      <td>1.326525</td>\n      <td>-0.214701</td>\n      <td>0.022079</td>\n      <td>0.887874</td>\n      <td>20.0</td>\n      <td>1.0</td>\n    </tr>\n    <tr>\n      <th>2021-01-03</th>\n      <td>0.891641</td>\n      <td>1.239267</td>\n      <td>150.000000</td>\n      <td>0.540827</td>\n      <td>30.0</td>\n      <td>NaN</td>\n    </tr>\n    <tr>\n      <th>2021-01-04</th>\n      <td>-0.229054</td>\n      <td>0.233816</td>\n      <td>-1.870031</td>\n      <td>0.603779</td>\n      <td>40.0</td>\n      <td>NaN</td>\n    </tr>\n  </tbody>\n</table>\n</div>"
     },
     "metadata": {},
     "execution_count": 32
    }
   ],
   "source": [
    "df1 = df.reindex(index=x[0:4], columns=list(df.columns) + ['E'])\n",
    "df1.loc[x[0] : x[1], 'E'] = 1\n",
    "df1"
   ]
  },
  {
   "cell_type": "code",
   "execution_count": 33,
   "metadata": {},
   "outputs": [
    {
     "output_type": "execute_result",
     "data": {
      "text/plain": [
       "                   A         B         C         D     F    E\n",
       "2021-01-02  1.326525 -0.214701  0.022079  0.887874  20.0  1.0"
      ],
      "text/html": "<div>\n<style scoped>\n    .dataframe tbody tr th:only-of-type {\n        vertical-align: middle;\n    }\n\n    .dataframe tbody tr th {\n        vertical-align: top;\n    }\n\n    .dataframe thead th {\n        text-align: right;\n    }\n</style>\n<table border=\"1\" class=\"dataframe\">\n  <thead>\n    <tr style=\"text-align: right;\">\n      <th></th>\n      <th>A</th>\n      <th>B</th>\n      <th>C</th>\n      <th>D</th>\n      <th>F</th>\n      <th>E</th>\n    </tr>\n  </thead>\n  <tbody>\n    <tr>\n      <th>2021-01-02</th>\n      <td>1.326525</td>\n      <td>-0.214701</td>\n      <td>0.022079</td>\n      <td>0.887874</td>\n      <td>20.0</td>\n      <td>1.0</td>\n    </tr>\n  </tbody>\n</table>\n</div>"
     },
     "metadata": {},
     "execution_count": 33
    }
   ],
   "source": [
    "df1.dropna(how='any')"
   ]
  },
  {
   "cell_type": "code",
   "execution_count": 34,
   "metadata": {},
   "outputs": [
    {
     "output_type": "execute_result",
     "data": {
      "text/plain": [
       "                   A         B           C         D     F    E\n",
       "2021-01-01 -1.941678  0.076270   -0.325770 -0.415459   5.0  1.0\n",
       "2021-01-02  1.326525 -0.214701    0.022079  0.887874  20.0  1.0\n",
       "2021-01-03  0.891641  1.239267  150.000000  0.540827  30.0  5.0\n",
       "2021-01-04 -0.229054  0.233816   -1.870031  0.603779  40.0  5.0"
      ],
      "text/html": "<div>\n<style scoped>\n    .dataframe tbody tr th:only-of-type {\n        vertical-align: middle;\n    }\n\n    .dataframe tbody tr th {\n        vertical-align: top;\n    }\n\n    .dataframe thead th {\n        text-align: right;\n    }\n</style>\n<table border=\"1\" class=\"dataframe\">\n  <thead>\n    <tr style=\"text-align: right;\">\n      <th></th>\n      <th>A</th>\n      <th>B</th>\n      <th>C</th>\n      <th>D</th>\n      <th>F</th>\n      <th>E</th>\n    </tr>\n  </thead>\n  <tbody>\n    <tr>\n      <th>2021-01-01</th>\n      <td>-1.941678</td>\n      <td>0.076270</td>\n      <td>-0.325770</td>\n      <td>-0.415459</td>\n      <td>5.0</td>\n      <td>1.0</td>\n    </tr>\n    <tr>\n      <th>2021-01-02</th>\n      <td>1.326525</td>\n      <td>-0.214701</td>\n      <td>0.022079</td>\n      <td>0.887874</td>\n      <td>20.0</td>\n      <td>1.0</td>\n    </tr>\n    <tr>\n      <th>2021-01-03</th>\n      <td>0.891641</td>\n      <td>1.239267</td>\n      <td>150.000000</td>\n      <td>0.540827</td>\n      <td>30.0</td>\n      <td>5.0</td>\n    </tr>\n    <tr>\n      <th>2021-01-04</th>\n      <td>-0.229054</td>\n      <td>0.233816</td>\n      <td>-1.870031</td>\n      <td>0.603779</td>\n      <td>40.0</td>\n      <td>5.0</td>\n    </tr>\n  </tbody>\n</table>\n</div>"
     },
     "metadata": {},
     "execution_count": 34
    }
   ],
   "source": [
    "df1.fillna(value=5)"
   ]
  },
  {
   "source": [
    "### [Operations > Stats](https://pandas.pydata.org/docs/user_guide/10min.html#stats)"
   ],
   "cell_type": "markdown",
   "metadata": {}
  },
  {
   "cell_type": "code",
   "execution_count": 36,
   "metadata": {},
   "outputs": [
    {
     "output_type": "execute_result",
     "data": {
      "text/plain": [
       "A    -0.132441\n",
       "B     0.629855\n",
       "C    24.964854\n",
       "D     0.110560\n",
       "F    40.000000\n",
       "dtype: float64"
      ]
     },
     "metadata": {},
     "execution_count": 36
    }
   ],
   "source": [
    "## Operations in general exclude missing data.\n",
    "df.mean()"
   ]
  },
  {
   "cell_type": "code",
   "execution_count": 37,
   "metadata": {},
   "outputs": [
    {
     "output_type": "execute_result",
     "data": {
      "text/plain": [
       "A    -0.132441\n",
       "B     0.629855\n",
       "C    24.964854\n",
       "D     0.110560\n",
       "F    40.000000\n",
       "dtype: float64"
      ]
     },
     "metadata": {},
     "execution_count": 37
    }
   ],
   "source": [
    "# Operations run on axis 0 by default.\n",
    "df.mean(axis=0)"
   ]
  },
  {
   "cell_type": "code",
   "execution_count": 38,
   "metadata": {},
   "outputs": [
    {
     "output_type": "execute_result",
     "data": {
      "text/plain": [
       "2021-01-01    -0.651659\n",
       "2021-01-02     4.404355\n",
       "2021-01-03    36.534347\n",
       "2021-01-04     7.747702\n",
       "2021-01-05     9.593789\n",
       "2021-01-06    12.928529\n",
       "Freq: D, dtype: float64"
      ]
     },
     "metadata": {},
     "execution_count": 38
    }
   ],
   "source": [
    "# And you can run on axis 1.\n",
    "df.mean(axis=1)"
   ]
  },
  {
   "cell_type": "code",
   "execution_count": null,
   "metadata": {},
   "outputs": [],
   "source": []
  }
 ]
}