{
 "metadata": {
  "language_info": {
   "codemirror_mode": {
    "name": "ipython",
    "version": 3
   },
   "file_extension": ".py",
   "mimetype": "text/x-python",
   "name": "python",
   "nbconvert_exporter": "python",
   "pygments_lexer": "ipython3",
   "version": "3.8.8"
  },
  "orig_nbformat": 2,
  "kernelspec": {
   "name": "python388jvsc74a57bd0c458099ea83a5ed039bb819f7066f0dffb48e7e559bf7d5a5aff014a94aff5f9",
   "display_name": "Python 3.8.8 64-bit ('base': conda)"
  }
 },
 "nbformat": 4,
 "nbformat_minor": 2,
 "cells": [
  {
   "source": [
    "### My walk-through of [10 minutes to pandas](https://pandas.pydata.org/docs/user_guide/10min.html).\n",
    "\n",
    "### [Object creation](https://pandas.pydata.org/docs/user_guide/10min.html#object-creation)"
   ],
   "cell_type": "markdown",
   "metadata": {}
  },
  {
   "cell_type": "code",
   "execution_count": 43,
   "metadata": {},
   "outputs": [],
   "source": [
    "import numpy as np\n",
    "import pandas as pd"
   ]
  },
  {
   "cell_type": "code",
   "execution_count": 44,
   "metadata": {},
   "outputs": [
    {
     "output_type": "execute_result",
     "data": {
      "text/plain": [
       "0    1.0\n",
       "1    3.0\n",
       "2    4.0\n",
       "3    NaN\n",
       "4    6.0\n",
       "5    8.0\n",
       "dtype: float64"
      ]
     },
     "metadata": {},
     "execution_count": 44
    }
   ],
   "source": [
    "s = pd.Series([1, 3, 4, np.nan, 6, 8])\n",
    "s"
   ]
  },
  {
   "cell_type": "code",
   "execution_count": 45,
   "metadata": {},
   "outputs": [
    {
     "output_type": "execute_result",
     "data": {
      "text/plain": [
       "count    5.000000\n",
       "mean     4.400000\n",
       "std      2.701851\n",
       "min      1.000000\n",
       "25%      3.000000\n",
       "50%      4.000000\n",
       "75%      6.000000\n",
       "max      8.000000\n",
       "dtype: float64"
      ]
     },
     "metadata": {},
     "execution_count": 45
    }
   ],
   "source": [
    "s.describe()"
   ]
  },
  {
   "cell_type": "code",
   "execution_count": 46,
   "metadata": {},
   "outputs": [
    {
     "output_type": "execute_result",
     "data": {
      "text/plain": [
       "DatetimeIndex(['2021-01-01', '2021-01-02', '2021-01-03', '2021-01-04',\n",
       "               '2021-01-05', '2021-01-06'],\n",
       "              dtype='datetime64[ns]', freq='D')"
      ]
     },
     "metadata": {},
     "execution_count": 46
    }
   ],
   "source": [
    "x = pd.date_range('20210101', periods=6)\n",
    "x"
   ]
  },
  {
   "cell_type": "code",
   "execution_count": 47,
   "metadata": {},
   "outputs": [
    {
     "output_type": "execute_result",
     "data": {
      "text/plain": [
       "                   A         B         C         D\n",
       "2021-01-01 -0.280296 -0.622700 -0.740066 -1.804773\n",
       "2021-01-02  0.448926 -2.132935 -0.237265 -1.216808\n",
       "2021-01-03  0.931637  0.481341 -1.715976 -0.057648\n",
       "2021-01-04 -0.915766  0.027777 -0.853713 -0.673066\n",
       "2021-01-05  1.295416 -0.100129 -0.859383  0.444198\n",
       "2021-01-06 -1.578108 -1.040209 -0.190125  0.222660"
      ],
      "text/html": "<div>\n<style scoped>\n    .dataframe tbody tr th:only-of-type {\n        vertical-align: middle;\n    }\n\n    .dataframe tbody tr th {\n        vertical-align: top;\n    }\n\n    .dataframe thead th {\n        text-align: right;\n    }\n</style>\n<table border=\"1\" class=\"dataframe\">\n  <thead>\n    <tr style=\"text-align: right;\">\n      <th></th>\n      <th>A</th>\n      <th>B</th>\n      <th>C</th>\n      <th>D</th>\n    </tr>\n  </thead>\n  <tbody>\n    <tr>\n      <th>2021-01-01</th>\n      <td>-0.280296</td>\n      <td>-0.622700</td>\n      <td>-0.740066</td>\n      <td>-1.804773</td>\n    </tr>\n    <tr>\n      <th>2021-01-02</th>\n      <td>0.448926</td>\n      <td>-2.132935</td>\n      <td>-0.237265</td>\n      <td>-1.216808</td>\n    </tr>\n    <tr>\n      <th>2021-01-03</th>\n      <td>0.931637</td>\n      <td>0.481341</td>\n      <td>-1.715976</td>\n      <td>-0.057648</td>\n    </tr>\n    <tr>\n      <th>2021-01-04</th>\n      <td>-0.915766</td>\n      <td>0.027777</td>\n      <td>-0.853713</td>\n      <td>-0.673066</td>\n    </tr>\n    <tr>\n      <th>2021-01-05</th>\n      <td>1.295416</td>\n      <td>-0.100129</td>\n      <td>-0.859383</td>\n      <td>0.444198</td>\n    </tr>\n    <tr>\n      <th>2021-01-06</th>\n      <td>-1.578108</td>\n      <td>-1.040209</td>\n      <td>-0.190125</td>\n      <td>0.222660</td>\n    </tr>\n  </tbody>\n</table>\n</div>"
     },
     "metadata": {},
     "execution_count": 47
    }
   ],
   "source": [
    "df = pd.DataFrame(np.random.randn(6, 4), index=x, columns=list('ABCD'))\n",
    "df"
   ]
  },
  {
   "cell_type": "code",
   "execution_count": 48,
   "metadata": {},
   "outputs": [
    {
     "output_type": "execute_result",
     "data": {
      "text/plain": [
       "              A         B         C         D\n",
       "count  6.000000  6.000000  6.000000  6.000000\n",
       "mean  -0.016365 -0.564476 -0.766088 -0.514240\n",
       "std    1.109378  0.932726  0.553305  0.877998\n",
       "min   -1.578108 -2.132935 -1.715976 -1.804773\n",
       "25%   -0.756899 -0.935832 -0.857966 -1.080872\n",
       "50%    0.084315 -0.361415 -0.796890 -0.365357\n",
       "75%    0.810959 -0.004200 -0.362965  0.152583\n",
       "max    1.295416  0.481341 -0.190125  0.444198"
      ],
      "text/html": "<div>\n<style scoped>\n    .dataframe tbody tr th:only-of-type {\n        vertical-align: middle;\n    }\n\n    .dataframe tbody tr th {\n        vertical-align: top;\n    }\n\n    .dataframe thead th {\n        text-align: right;\n    }\n</style>\n<table border=\"1\" class=\"dataframe\">\n  <thead>\n    <tr style=\"text-align: right;\">\n      <th></th>\n      <th>A</th>\n      <th>B</th>\n      <th>C</th>\n      <th>D</th>\n    </tr>\n  </thead>\n  <tbody>\n    <tr>\n      <th>count</th>\n      <td>6.000000</td>\n      <td>6.000000</td>\n      <td>6.000000</td>\n      <td>6.000000</td>\n    </tr>\n    <tr>\n      <th>mean</th>\n      <td>-0.016365</td>\n      <td>-0.564476</td>\n      <td>-0.766088</td>\n      <td>-0.514240</td>\n    </tr>\n    <tr>\n      <th>std</th>\n      <td>1.109378</td>\n      <td>0.932726</td>\n      <td>0.553305</td>\n      <td>0.877998</td>\n    </tr>\n    <tr>\n      <th>min</th>\n      <td>-1.578108</td>\n      <td>-2.132935</td>\n      <td>-1.715976</td>\n      <td>-1.804773</td>\n    </tr>\n    <tr>\n      <th>25%</th>\n      <td>-0.756899</td>\n      <td>-0.935832</td>\n      <td>-0.857966</td>\n      <td>-1.080872</td>\n    </tr>\n    <tr>\n      <th>50%</th>\n      <td>0.084315</td>\n      <td>-0.361415</td>\n      <td>-0.796890</td>\n      <td>-0.365357</td>\n    </tr>\n    <tr>\n      <th>75%</th>\n      <td>0.810959</td>\n      <td>-0.004200</td>\n      <td>-0.362965</td>\n      <td>0.152583</td>\n    </tr>\n    <tr>\n      <th>max</th>\n      <td>1.295416</td>\n      <td>0.481341</td>\n      <td>-0.190125</td>\n      <td>0.444198</td>\n    </tr>\n  </tbody>\n</table>\n</div>"
     },
     "metadata": {},
     "execution_count": 48
    }
   ],
   "source": [
    "df.describe()"
   ]
  },
  {
   "source": [
    "Creating a [DataFrame](https://pandas.pydata.org/docs/reference/api/pandas.DataFrame.html#pandas.DataFrame) by passing a dict of objects that can be converted to series-like."
   ],
   "cell_type": "markdown",
   "metadata": {}
  },
  {
   "cell_type": "code",
   "execution_count": 49,
   "metadata": {},
   "outputs": [
    {
     "output_type": "execute_result",
     "data": {
      "text/plain": [
       "     A          B    C  D      E    F\n",
       "0  1.0 2021-01-01  1.0  3   test  foo\n",
       "1  1.0 2021-01-01  1.0  3  train  foo\n",
       "2  1.0 2021-01-01  1.0  3   test  foo\n",
       "3  1.0 2021-01-01  1.0  3  train  foo"
      ],
      "text/html": "<div>\n<style scoped>\n    .dataframe tbody tr th:only-of-type {\n        vertical-align: middle;\n    }\n\n    .dataframe tbody tr th {\n        vertical-align: top;\n    }\n\n    .dataframe thead th {\n        text-align: right;\n    }\n</style>\n<table border=\"1\" class=\"dataframe\">\n  <thead>\n    <tr style=\"text-align: right;\">\n      <th></th>\n      <th>A</th>\n      <th>B</th>\n      <th>C</th>\n      <th>D</th>\n      <th>E</th>\n      <th>F</th>\n    </tr>\n  </thead>\n  <tbody>\n    <tr>\n      <th>0</th>\n      <td>1.0</td>\n      <td>2021-01-01</td>\n      <td>1.0</td>\n      <td>3</td>\n      <td>test</td>\n      <td>foo</td>\n    </tr>\n    <tr>\n      <th>1</th>\n      <td>1.0</td>\n      <td>2021-01-01</td>\n      <td>1.0</td>\n      <td>3</td>\n      <td>train</td>\n      <td>foo</td>\n    </tr>\n    <tr>\n      <th>2</th>\n      <td>1.0</td>\n      <td>2021-01-01</td>\n      <td>1.0</td>\n      <td>3</td>\n      <td>test</td>\n      <td>foo</td>\n    </tr>\n    <tr>\n      <th>3</th>\n      <td>1.0</td>\n      <td>2021-01-01</td>\n      <td>1.0</td>\n      <td>3</td>\n      <td>train</td>\n      <td>foo</td>\n    </tr>\n  </tbody>\n</table>\n</div>"
     },
     "metadata": {},
     "execution_count": 49
    }
   ],
   "source": [
    "df2 = pd.DataFrame(\n",
    "    {\n",
    "        'A': 1.0,\n",
    "        'B': pd.Timestamp('20210101'),\n",
    "        'C': pd.Series(1, index=list(range(4)), dtype='float64'),\n",
    "        'D': np.array([3]*4, dtype='int64'),\n",
    "        'E': pd.Categorical(['test', 'train', 'test', 'train']),\n",
    "        'F': 'foo',\n",
    "    }\n",
    ")\n",
    "\n",
    "df2"
   ]
  },
  {
   "source": [
    "Interesting. A single entry (such as 1 of column A, timestamp of column B, and so on) are just extended.\n",
    "\n",
    "In this example, the number of records seems to be determined by this line:\n",
    "\n",
    "```\n",
    "        'C': pd.Series(1, index=list(range(4)), dtype='float64'),\n",
    "```\n",
    "\n",
    "This determines the number of records of this DataFrame is four.\n",
    "\n",
    "Columns A, B, and F are just a single entry. They are made to a [Series](https://pandas.pydata.org/docs/reference/api/pandas.Series.html#pandas.Series). Scalar `1` is turned to `[1, 1, 1, 1]`.\n",
    "\n",
    "\n",
    "If you give 5 as multiplier on column D:\n",
    "```\n",
    "        'D': np.array([3]*5, dtype='int64'),\n",
    "```\n",
    "\n",
    "Pandas complains that the number of records is not consistent with other part of code.\n",
    "\n",
    "Also, Pandas cannot extend a list. If you give this on column E:\n",
    "```\n",
    "        'E': pd.Categorical(['test', 'train']),\n",
    "```\n",
    "Pandas does not bother to repeat this 2-entry list and make it four.\n",
    "\n",
    "\n",
    "This is much like broadcasting of Excel [Dynamic Arrays](https://techcommunity.microsoft.com/t5/excel-blog/preview-of-dynamic-arrays-in-excel/ba-p/252944).\n",
    "\n",
    "[R](https://www.r-project.org/) takes a different approach when it finds a situation like this. It tries to extend/multiply to make its series fit to the entire dataframe.\n",
    "\n",
    "Different languages takes different approaches. Very interesting."
   ],
   "cell_type": "markdown",
   "metadata": {}
  },
  {
   "cell_type": "code",
   "execution_count": 50,
   "metadata": {},
   "outputs": [
    {
     "output_type": "execute_result",
     "data": {
      "text/plain": [
       "A           float64\n",
       "B    datetime64[ns]\n",
       "C           float64\n",
       "D             int64\n",
       "E          category\n",
       "F            object\n",
       "dtype: object"
      ]
     },
     "metadata": {},
     "execution_count": 50
    }
   ],
   "source": [
    "df2.dtypes"
   ]
  },
  {
   "source": [
    "### [Viewing data](https://pandas.pydata.org/docs/user_guide/10min.html#viewing-data)"
   ],
   "cell_type": "markdown",
   "metadata": {}
  },
  {
   "cell_type": "code",
   "execution_count": 51,
   "metadata": {},
   "outputs": [
    {
     "output_type": "execute_result",
     "data": {
      "text/plain": [
       "DatetimeIndex(['2021-01-01', '2021-01-02', '2021-01-03', '2021-01-04',\n",
       "               '2021-01-05', '2021-01-06'],\n",
       "              dtype='datetime64[ns]', freq='D')"
      ]
     },
     "metadata": {},
     "execution_count": 51
    }
   ],
   "source": [
    "df.index"
   ]
  },
  {
   "cell_type": "code",
   "execution_count": 52,
   "metadata": {},
   "outputs": [
    {
     "output_type": "execute_result",
     "data": {
      "text/plain": [
       "Index(['A', 'B', 'C', 'D'], dtype='object')"
      ]
     },
     "metadata": {},
     "execution_count": 52
    }
   ],
   "source": [
    "df.columns"
   ]
  },
  {
   "cell_type": "code",
   "execution_count": 53,
   "metadata": {},
   "outputs": [
    {
     "output_type": "execute_result",
     "data": {
      "text/plain": [
       "   2021-01-01  2021-01-02  2021-01-03  2021-01-04  2021-01-05  2021-01-06\n",
       "A   -0.280296    0.448926    0.931637   -0.915766    1.295416   -1.578108\n",
       "B   -0.622700   -2.132935    0.481341    0.027777   -0.100129   -1.040209\n",
       "C   -0.740066   -0.237265   -1.715976   -0.853713   -0.859383   -0.190125\n",
       "D   -1.804773   -1.216808   -0.057648   -0.673066    0.444198    0.222660"
      ],
      "text/html": "<div>\n<style scoped>\n    .dataframe tbody tr th:only-of-type {\n        vertical-align: middle;\n    }\n\n    .dataframe tbody tr th {\n        vertical-align: top;\n    }\n\n    .dataframe thead th {\n        text-align: right;\n    }\n</style>\n<table border=\"1\" class=\"dataframe\">\n  <thead>\n    <tr style=\"text-align: right;\">\n      <th></th>\n      <th>2021-01-01</th>\n      <th>2021-01-02</th>\n      <th>2021-01-03</th>\n      <th>2021-01-04</th>\n      <th>2021-01-05</th>\n      <th>2021-01-06</th>\n    </tr>\n  </thead>\n  <tbody>\n    <tr>\n      <th>A</th>\n      <td>-0.280296</td>\n      <td>0.448926</td>\n      <td>0.931637</td>\n      <td>-0.915766</td>\n      <td>1.295416</td>\n      <td>-1.578108</td>\n    </tr>\n    <tr>\n      <th>B</th>\n      <td>-0.622700</td>\n      <td>-2.132935</td>\n      <td>0.481341</td>\n      <td>0.027777</td>\n      <td>-0.100129</td>\n      <td>-1.040209</td>\n    </tr>\n    <tr>\n      <th>C</th>\n      <td>-0.740066</td>\n      <td>-0.237265</td>\n      <td>-1.715976</td>\n      <td>-0.853713</td>\n      <td>-0.859383</td>\n      <td>-0.190125</td>\n    </tr>\n    <tr>\n      <th>D</th>\n      <td>-1.804773</td>\n      <td>-1.216808</td>\n      <td>-0.057648</td>\n      <td>-0.673066</td>\n      <td>0.444198</td>\n      <td>0.222660</td>\n    </tr>\n  </tbody>\n</table>\n</div>"
     },
     "metadata": {},
     "execution_count": 53
    }
   ],
   "source": [
    "# Transposing\n",
    "\n",
    "df.T"
   ]
  },
  {
   "cell_type": "code",
   "execution_count": 54,
   "metadata": {},
   "outputs": [
    {
     "output_type": "execute_result",
     "data": {
      "text/plain": [
       "                   A         B         C         D\n",
       "2021-01-02  0.448926 -2.132935 -0.237265 -1.216808\n",
       "2021-01-06 -1.578108 -1.040209 -0.190125  0.222660\n",
       "2021-01-01 -0.280296 -0.622700 -0.740066 -1.804773\n",
       "2021-01-05  1.295416 -0.100129 -0.859383  0.444198\n",
       "2021-01-04 -0.915766  0.027777 -0.853713 -0.673066\n",
       "2021-01-03  0.931637  0.481341 -1.715976 -0.057648"
      ],
      "text/html": "<div>\n<style scoped>\n    .dataframe tbody tr th:only-of-type {\n        vertical-align: middle;\n    }\n\n    .dataframe tbody tr th {\n        vertical-align: top;\n    }\n\n    .dataframe thead th {\n        text-align: right;\n    }\n</style>\n<table border=\"1\" class=\"dataframe\">\n  <thead>\n    <tr style=\"text-align: right;\">\n      <th></th>\n      <th>A</th>\n      <th>B</th>\n      <th>C</th>\n      <th>D</th>\n    </tr>\n  </thead>\n  <tbody>\n    <tr>\n      <th>2021-01-02</th>\n      <td>0.448926</td>\n      <td>-2.132935</td>\n      <td>-0.237265</td>\n      <td>-1.216808</td>\n    </tr>\n    <tr>\n      <th>2021-01-06</th>\n      <td>-1.578108</td>\n      <td>-1.040209</td>\n      <td>-0.190125</td>\n      <td>0.222660</td>\n    </tr>\n    <tr>\n      <th>2021-01-01</th>\n      <td>-0.280296</td>\n      <td>-0.622700</td>\n      <td>-0.740066</td>\n      <td>-1.804773</td>\n    </tr>\n    <tr>\n      <th>2021-01-05</th>\n      <td>1.295416</td>\n      <td>-0.100129</td>\n      <td>-0.859383</td>\n      <td>0.444198</td>\n    </tr>\n    <tr>\n      <th>2021-01-04</th>\n      <td>-0.915766</td>\n      <td>0.027777</td>\n      <td>-0.853713</td>\n      <td>-0.673066</td>\n    </tr>\n    <tr>\n      <th>2021-01-03</th>\n      <td>0.931637</td>\n      <td>0.481341</td>\n      <td>-1.715976</td>\n      <td>-0.057648</td>\n    </tr>\n  </tbody>\n</table>\n</div>"
     },
     "metadata": {},
     "execution_count": 54
    }
   ],
   "source": [
    "df.sort_values(by='B')"
   ]
  },
  {
   "source": [
    "### [Selection](https://pandas.pydata.org/docs/user_guide/10min.html#selection)"
   ],
   "cell_type": "markdown",
   "metadata": {}
  },
  {
   "cell_type": "code",
   "execution_count": 55,
   "metadata": {},
   "outputs": [
    {
     "output_type": "execute_result",
     "data": {
      "text/plain": [
       "2021-01-01   -0.280296\n",
       "2021-01-02    0.448926\n",
       "2021-01-03    0.931637\n",
       "2021-01-04   -0.915766\n",
       "2021-01-05    1.295416\n",
       "2021-01-06   -1.578108\n",
       "Freq: D, Name: A, dtype: float64"
      ]
     },
     "metadata": {},
     "execution_count": 55
    }
   ],
   "source": [
    "### Selecting one column\n",
    "df['A']\n",
    "### This returns a Series."
   ]
  },
  {
   "cell_type": "code",
   "execution_count": 56,
   "metadata": {},
   "outputs": [
    {
     "output_type": "execute_result",
     "data": {
      "text/plain": [
       "2021-01-01   -0.280296\n",
       "2021-01-02    0.448926\n",
       "2021-01-03    0.931637\n",
       "2021-01-04   -0.915766\n",
       "2021-01-05    1.295416\n",
       "2021-01-06   -1.578108\n",
       "Freq: D, Name: A, dtype: float64"
      ]
     },
     "metadata": {},
     "execution_count": 56
    }
   ],
   "source": [
    "df.A"
   ]
  },
  {
   "cell_type": "code",
   "execution_count": 57,
   "metadata": {},
   "outputs": [
    {
     "output_type": "execute_result",
     "data": {
      "text/plain": [
       "                   B         D\n",
       "2021-01-01 -0.622700 -1.804773\n",
       "2021-01-02 -2.132935 -1.216808\n",
       "2021-01-03  0.481341 -0.057648\n",
       "2021-01-04  0.027777 -0.673066\n",
       "2021-01-05 -0.100129  0.444198\n",
       "2021-01-06 -1.040209  0.222660"
      ],
      "text/html": "<div>\n<style scoped>\n    .dataframe tbody tr th:only-of-type {\n        vertical-align: middle;\n    }\n\n    .dataframe tbody tr th {\n        vertical-align: top;\n    }\n\n    .dataframe thead th {\n        text-align: right;\n    }\n</style>\n<table border=\"1\" class=\"dataframe\">\n  <thead>\n    <tr style=\"text-align: right;\">\n      <th></th>\n      <th>B</th>\n      <th>D</th>\n    </tr>\n  </thead>\n  <tbody>\n    <tr>\n      <th>2021-01-01</th>\n      <td>-0.622700</td>\n      <td>-1.804773</td>\n    </tr>\n    <tr>\n      <th>2021-01-02</th>\n      <td>-2.132935</td>\n      <td>-1.216808</td>\n    </tr>\n    <tr>\n      <th>2021-01-03</th>\n      <td>0.481341</td>\n      <td>-0.057648</td>\n    </tr>\n    <tr>\n      <th>2021-01-04</th>\n      <td>0.027777</td>\n      <td>-0.673066</td>\n    </tr>\n    <tr>\n      <th>2021-01-05</th>\n      <td>-0.100129</td>\n      <td>0.444198</td>\n    </tr>\n    <tr>\n      <th>2021-01-06</th>\n      <td>-1.040209</td>\n      <td>0.222660</td>\n    </tr>\n  </tbody>\n</table>\n</div>"
     },
     "metadata": {},
     "execution_count": 57
    }
   ],
   "source": [
    "### Selecting multiple columns\n",
    "df[['B', 'D']]"
   ]
  },
  {
   "cell_type": "code",
   "execution_count": 58,
   "metadata": {},
   "outputs": [
    {
     "output_type": "execute_result",
     "data": {
      "text/plain": [
       "                   A         B         C         D\n",
       "2021-01-01 -0.280296 -0.622700 -0.740066 -1.804773\n",
       "2021-01-02  0.448926 -2.132935 -0.237265 -1.216808"
      ],
      "text/html": "<div>\n<style scoped>\n    .dataframe tbody tr th:only-of-type {\n        vertical-align: middle;\n    }\n\n    .dataframe tbody tr th {\n        vertical-align: top;\n    }\n\n    .dataframe thead th {\n        text-align: right;\n    }\n</style>\n<table border=\"1\" class=\"dataframe\">\n  <thead>\n    <tr style=\"text-align: right;\">\n      <th></th>\n      <th>A</th>\n      <th>B</th>\n      <th>C</th>\n      <th>D</th>\n    </tr>\n  </thead>\n  <tbody>\n    <tr>\n      <th>2021-01-01</th>\n      <td>-0.280296</td>\n      <td>-0.622700</td>\n      <td>-0.740066</td>\n      <td>-1.804773</td>\n    </tr>\n    <tr>\n      <th>2021-01-02</th>\n      <td>0.448926</td>\n      <td>-2.132935</td>\n      <td>-0.237265</td>\n      <td>-1.216808</td>\n    </tr>\n  </tbody>\n</table>\n</div>"
     },
     "metadata": {},
     "execution_count": 58
    }
   ],
   "source": [
    "### Slicing also works on rows. Interesting at best, confusing for beginners.\n",
    "df[0:2]"
   ]
  },
  {
   "cell_type": "code",
   "execution_count": 59,
   "metadata": {},
   "outputs": [
    {
     "output_type": "execute_result",
     "data": {
      "text/plain": [
       "                   A         B         C         D\n",
       "2021-01-02  0.448926 -2.132935 -0.237265 -1.216808\n",
       "2021-01-03  0.931637  0.481341 -1.715976 -0.057648\n",
       "2021-01-04 -0.915766  0.027777 -0.853713 -0.673066"
      ],
      "text/html": "<div>\n<style scoped>\n    .dataframe tbody tr th:only-of-type {\n        vertical-align: middle;\n    }\n\n    .dataframe tbody tr th {\n        vertical-align: top;\n    }\n\n    .dataframe thead th {\n        text-align: right;\n    }\n</style>\n<table border=\"1\" class=\"dataframe\">\n  <thead>\n    <tr style=\"text-align: right;\">\n      <th></th>\n      <th>A</th>\n      <th>B</th>\n      <th>C</th>\n      <th>D</th>\n    </tr>\n  </thead>\n  <tbody>\n    <tr>\n      <th>2021-01-02</th>\n      <td>0.448926</td>\n      <td>-2.132935</td>\n      <td>-0.237265</td>\n      <td>-1.216808</td>\n    </tr>\n    <tr>\n      <th>2021-01-03</th>\n      <td>0.931637</td>\n      <td>0.481341</td>\n      <td>-1.715976</td>\n      <td>-0.057648</td>\n    </tr>\n    <tr>\n      <th>2021-01-04</th>\n      <td>-0.915766</td>\n      <td>0.027777</td>\n      <td>-0.853713</td>\n      <td>-0.673066</td>\n    </tr>\n  </tbody>\n</table>\n</div>"
     },
     "metadata": {},
     "execution_count": 59
    }
   ],
   "source": [
    "### Also works on index. Wow...\n",
    "df['20210102':'20210104']"
   ]
  },
  {
   "source": [
    "### [Selection by label](https://pandas.pydata.org/docs/user_guide/10min.html#selection-by-label)\n",
    "\n",
    "[pandas.DataFrame.loc()](https://pandas.pydata.org/pandas-docs/stable/reference/api/pandas.DataFrame.loc.html) has a variety of usages."
   ],
   "cell_type": "markdown",
   "metadata": {}
  },
  {
   "cell_type": "code",
   "execution_count": 60,
   "metadata": {},
   "outputs": [
    {
     "output_type": "execute_result",
     "data": {
      "text/plain": [
       "A    0.448926\n",
       "B   -2.132935\n",
       "C   -0.237265\n",
       "D   -1.216808\n",
       "Name: 2021-01-02 00:00:00, dtype: float64"
      ]
     },
     "metadata": {},
     "execution_count": 60
    }
   ],
   "source": [
    "# selecting a row\n",
    "df.loc[x[1]]"
   ]
  },
  {
   "cell_type": "code",
   "execution_count": 61,
   "metadata": {},
   "outputs": [
    {
     "output_type": "execute_result",
     "data": {
      "text/plain": [
       "                   B         D\n",
       "2021-01-01 -0.622700 -1.804773\n",
       "2021-01-02 -2.132935 -1.216808\n",
       "2021-01-03  0.481341 -0.057648\n",
       "2021-01-04  0.027777 -0.673066\n",
       "2021-01-05 -0.100129  0.444198\n",
       "2021-01-06 -1.040209  0.222660"
      ],
      "text/html": "<div>\n<style scoped>\n    .dataframe tbody tr th:only-of-type {\n        vertical-align: middle;\n    }\n\n    .dataframe tbody tr th {\n        vertical-align: top;\n    }\n\n    .dataframe thead th {\n        text-align: right;\n    }\n</style>\n<table border=\"1\" class=\"dataframe\">\n  <thead>\n    <tr style=\"text-align: right;\">\n      <th></th>\n      <th>B</th>\n      <th>D</th>\n    </tr>\n  </thead>\n  <tbody>\n    <tr>\n      <th>2021-01-01</th>\n      <td>-0.622700</td>\n      <td>-1.804773</td>\n    </tr>\n    <tr>\n      <th>2021-01-02</th>\n      <td>-2.132935</td>\n      <td>-1.216808</td>\n    </tr>\n    <tr>\n      <th>2021-01-03</th>\n      <td>0.481341</td>\n      <td>-0.057648</td>\n    </tr>\n    <tr>\n      <th>2021-01-04</th>\n      <td>0.027777</td>\n      <td>-0.673066</td>\n    </tr>\n    <tr>\n      <th>2021-01-05</th>\n      <td>-0.100129</td>\n      <td>0.444198</td>\n    </tr>\n    <tr>\n      <th>2021-01-06</th>\n      <td>-1.040209</td>\n      <td>0.222660</td>\n    </tr>\n  </tbody>\n</table>\n</div>"
     },
     "metadata": {},
     "execution_count": 61
    }
   ],
   "source": [
    "df.loc[:, ('B', 'D')]"
   ]
  },
  {
   "cell_type": "code",
   "execution_count": 62,
   "metadata": {},
   "outputs": [
    {
     "output_type": "execute_result",
     "data": {
      "text/plain": [
       "                   B         C         D\n",
       "2021-01-01 -0.622700 -0.740066 -1.804773\n",
       "2021-01-02 -2.132935 -0.237265 -1.216808\n",
       "2021-01-03  0.481341 -1.715976 -0.057648\n",
       "2021-01-04  0.027777 -0.853713 -0.673066\n",
       "2021-01-05 -0.100129 -0.859383  0.444198\n",
       "2021-01-06 -1.040209 -0.190125  0.222660"
      ],
      "text/html": "<div>\n<style scoped>\n    .dataframe tbody tr th:only-of-type {\n        vertical-align: middle;\n    }\n\n    .dataframe tbody tr th {\n        vertical-align: top;\n    }\n\n    .dataframe thead th {\n        text-align: right;\n    }\n</style>\n<table border=\"1\" class=\"dataframe\">\n  <thead>\n    <tr style=\"text-align: right;\">\n      <th></th>\n      <th>B</th>\n      <th>C</th>\n      <th>D</th>\n    </tr>\n  </thead>\n  <tbody>\n    <tr>\n      <th>2021-01-01</th>\n      <td>-0.622700</td>\n      <td>-0.740066</td>\n      <td>-1.804773</td>\n    </tr>\n    <tr>\n      <th>2021-01-02</th>\n      <td>-2.132935</td>\n      <td>-0.237265</td>\n      <td>-1.216808</td>\n    </tr>\n    <tr>\n      <th>2021-01-03</th>\n      <td>0.481341</td>\n      <td>-1.715976</td>\n      <td>-0.057648</td>\n    </tr>\n    <tr>\n      <th>2021-01-04</th>\n      <td>0.027777</td>\n      <td>-0.853713</td>\n      <td>-0.673066</td>\n    </tr>\n    <tr>\n      <th>2021-01-05</th>\n      <td>-0.100129</td>\n      <td>-0.859383</td>\n      <td>0.444198</td>\n    </tr>\n    <tr>\n      <th>2021-01-06</th>\n      <td>-1.040209</td>\n      <td>-0.190125</td>\n      <td>0.222660</td>\n    </tr>\n  </tbody>\n</table>\n</div>"
     },
     "metadata": {},
     "execution_count": 62
    }
   ],
   "source": [
    "df.loc[:, 'B':'D']"
   ]
  },
  {
   "cell_type": "code",
   "execution_count": 63,
   "metadata": {},
   "outputs": [
    {
     "output_type": "execute_result",
     "data": {
      "text/plain": [
       "                   A         C\n",
       "2021-01-01 -0.280296 -0.740066\n",
       "2021-01-02  0.448926 -0.237265\n",
       "2021-01-03  0.931637 -1.715976"
      ],
      "text/html": "<div>\n<style scoped>\n    .dataframe tbody tr th:only-of-type {\n        vertical-align: middle;\n    }\n\n    .dataframe tbody tr th {\n        vertical-align: top;\n    }\n\n    .dataframe thead th {\n        text-align: right;\n    }\n</style>\n<table border=\"1\" class=\"dataframe\">\n  <thead>\n    <tr style=\"text-align: right;\">\n      <th></th>\n      <th>A</th>\n      <th>C</th>\n    </tr>\n  </thead>\n  <tbody>\n    <tr>\n      <th>2021-01-01</th>\n      <td>-0.280296</td>\n      <td>-0.740066</td>\n    </tr>\n    <tr>\n      <th>2021-01-02</th>\n      <td>0.448926</td>\n      <td>-0.237265</td>\n    </tr>\n    <tr>\n      <th>2021-01-03</th>\n      <td>0.931637</td>\n      <td>-1.715976</td>\n    </tr>\n  </tbody>\n</table>\n</div>"
     },
     "metadata": {},
     "execution_count": 63
    }
   ],
   "source": [
    "df.loc['20210101':'20210103', ('A', 'C')]"
   ]
  },
  {
   "source": [
    "okay, so DataFrame.loc() takes row as first argument, columns as second. Looks like that."
   ],
   "cell_type": "markdown",
   "metadata": {}
  },
  {
   "source": [
    "### [Seelction by position](https://pandas.pydata.org/docs/user_guide/10min.html#selection-by-position)\n",
    "\n",
    "[pandas.DataFrame.iloc()](https://pandas.pydata.org/pandas-docs/stable/reference/api/pandas.DataFrame.iloc.html) lets you select by integer index."
   ],
   "cell_type": "markdown",
   "metadata": {}
  },
  {
   "source": [
    "### [Boolean indexing](https://pandas.pydata.org/docs/user_guide/10min.html#boolean-indexing)"
   ],
   "cell_type": "markdown",
   "metadata": {}
  },
  {
   "cell_type": "code",
   "execution_count": 64,
   "metadata": {},
   "outputs": [
    {
     "output_type": "execute_result",
     "data": {
      "text/plain": [
       "2021-01-01    False\n",
       "2021-01-02     True\n",
       "2021-01-03     True\n",
       "2021-01-04    False\n",
       "2021-01-05     True\n",
       "2021-01-06    False\n",
       "Freq: D, Name: A, dtype: bool"
      ]
     },
     "metadata": {},
     "execution_count": 64
    }
   ],
   "source": [
    "df['A'] > 0"
   ]
  },
  {
   "cell_type": "code",
   "execution_count": 65,
   "metadata": {},
   "outputs": [
    {
     "output_type": "execute_result",
     "data": {
      "text/plain": [
       "                   A         B         C         D\n",
       "2021-01-02  0.448926 -2.132935 -0.237265 -1.216808\n",
       "2021-01-03  0.931637  0.481341 -1.715976 -0.057648\n",
       "2021-01-05  1.295416 -0.100129 -0.859383  0.444198"
      ],
      "text/html": "<div>\n<style scoped>\n    .dataframe tbody tr th:only-of-type {\n        vertical-align: middle;\n    }\n\n    .dataframe tbody tr th {\n        vertical-align: top;\n    }\n\n    .dataframe thead th {\n        text-align: right;\n    }\n</style>\n<table border=\"1\" class=\"dataframe\">\n  <thead>\n    <tr style=\"text-align: right;\">\n      <th></th>\n      <th>A</th>\n      <th>B</th>\n      <th>C</th>\n      <th>D</th>\n    </tr>\n  </thead>\n  <tbody>\n    <tr>\n      <th>2021-01-02</th>\n      <td>0.448926</td>\n      <td>-2.132935</td>\n      <td>-0.237265</td>\n      <td>-1.216808</td>\n    </tr>\n    <tr>\n      <th>2021-01-03</th>\n      <td>0.931637</td>\n      <td>0.481341</td>\n      <td>-1.715976</td>\n      <td>-0.057648</td>\n    </tr>\n    <tr>\n      <th>2021-01-05</th>\n      <td>1.295416</td>\n      <td>-0.100129</td>\n      <td>-0.859383</td>\n      <td>0.444198</td>\n    </tr>\n  </tbody>\n</table>\n</div>"
     },
     "metadata": {},
     "execution_count": 65
    }
   ],
   "source": [
    "df[df['A']>0]\n",
    "# In this tutorial, this is called a where operation."
   ]
  },
  {
   "cell_type": "code",
   "execution_count": 66,
   "metadata": {},
   "outputs": [
    {
     "output_type": "execute_result",
     "data": {
      "text/plain": [
       "                   A         B         C         D\n",
       "2021-01-01 -0.280296 -0.622700 -0.740066 -1.804773\n",
       "2021-01-02  0.448926 -2.132935 -0.237265 -1.216808\n",
       "2021-01-03  0.931637  0.481341 -1.715976 -0.057648\n",
       "2021-01-04 -0.915766  0.027777 -0.853713 -0.673066\n",
       "2021-01-05  1.295416 -0.100129 -0.859383  0.444198\n",
       "2021-01-06 -1.578108 -1.040209 -0.190125  0.222660"
      ],
      "text/html": "<div>\n<style scoped>\n    .dataframe tbody tr th:only-of-type {\n        vertical-align: middle;\n    }\n\n    .dataframe tbody tr th {\n        vertical-align: top;\n    }\n\n    .dataframe thead th {\n        text-align: right;\n    }\n</style>\n<table border=\"1\" class=\"dataframe\">\n  <thead>\n    <tr style=\"text-align: right;\">\n      <th></th>\n      <th>A</th>\n      <th>B</th>\n      <th>C</th>\n      <th>D</th>\n    </tr>\n  </thead>\n  <tbody>\n    <tr>\n      <th>2021-01-01</th>\n      <td>-0.280296</td>\n      <td>-0.622700</td>\n      <td>-0.740066</td>\n      <td>-1.804773</td>\n    </tr>\n    <tr>\n      <th>2021-01-02</th>\n      <td>0.448926</td>\n      <td>-2.132935</td>\n      <td>-0.237265</td>\n      <td>-1.216808</td>\n    </tr>\n    <tr>\n      <th>2021-01-03</th>\n      <td>0.931637</td>\n      <td>0.481341</td>\n      <td>-1.715976</td>\n      <td>-0.057648</td>\n    </tr>\n    <tr>\n      <th>2021-01-04</th>\n      <td>-0.915766</td>\n      <td>0.027777</td>\n      <td>-0.853713</td>\n      <td>-0.673066</td>\n    </tr>\n    <tr>\n      <th>2021-01-05</th>\n      <td>1.295416</td>\n      <td>-0.100129</td>\n      <td>-0.859383</td>\n      <td>0.444198</td>\n    </tr>\n    <tr>\n      <th>2021-01-06</th>\n      <td>-1.578108</td>\n      <td>-1.040209</td>\n      <td>-0.190125</td>\n      <td>0.222660</td>\n    </tr>\n  </tbody>\n</table>\n</div>"
     },
     "metadata": {},
     "execution_count": 66
    }
   ],
   "source": [
    "df2 = df.copy()\n",
    "df2"
   ]
  },
  {
   "cell_type": "code",
   "execution_count": 67,
   "metadata": {},
   "outputs": [
    {
     "output_type": "execute_result",
     "data": {
      "text/plain": [
       "                   A         B         C         D      E\n",
       "2021-01-01 -0.280296 -0.622700 -0.740066 -1.804773    one\n",
       "2021-01-02  0.448926 -2.132935 -0.237265 -1.216808    one\n",
       "2021-01-03  0.931637  0.481341 -1.715976 -0.057648    two\n",
       "2021-01-04 -0.915766  0.027777 -0.853713 -0.673066  three\n",
       "2021-01-05  1.295416 -0.100129 -0.859383  0.444198   four\n",
       "2021-01-06 -1.578108 -1.040209 -0.190125  0.222660  three"
      ],
      "text/html": "<div>\n<style scoped>\n    .dataframe tbody tr th:only-of-type {\n        vertical-align: middle;\n    }\n\n    .dataframe tbody tr th {\n        vertical-align: top;\n    }\n\n    .dataframe thead th {\n        text-align: right;\n    }\n</style>\n<table border=\"1\" class=\"dataframe\">\n  <thead>\n    <tr style=\"text-align: right;\">\n      <th></th>\n      <th>A</th>\n      <th>B</th>\n      <th>C</th>\n      <th>D</th>\n      <th>E</th>\n    </tr>\n  </thead>\n  <tbody>\n    <tr>\n      <th>2021-01-01</th>\n      <td>-0.280296</td>\n      <td>-0.622700</td>\n      <td>-0.740066</td>\n      <td>-1.804773</td>\n      <td>one</td>\n    </tr>\n    <tr>\n      <th>2021-01-02</th>\n      <td>0.448926</td>\n      <td>-2.132935</td>\n      <td>-0.237265</td>\n      <td>-1.216808</td>\n      <td>one</td>\n    </tr>\n    <tr>\n      <th>2021-01-03</th>\n      <td>0.931637</td>\n      <td>0.481341</td>\n      <td>-1.715976</td>\n      <td>-0.057648</td>\n      <td>two</td>\n    </tr>\n    <tr>\n      <th>2021-01-04</th>\n      <td>-0.915766</td>\n      <td>0.027777</td>\n      <td>-0.853713</td>\n      <td>-0.673066</td>\n      <td>three</td>\n    </tr>\n    <tr>\n      <th>2021-01-05</th>\n      <td>1.295416</td>\n      <td>-0.100129</td>\n      <td>-0.859383</td>\n      <td>0.444198</td>\n      <td>four</td>\n    </tr>\n    <tr>\n      <th>2021-01-06</th>\n      <td>-1.578108</td>\n      <td>-1.040209</td>\n      <td>-0.190125</td>\n      <td>0.222660</td>\n      <td>three</td>\n    </tr>\n  </tbody>\n</table>\n</div>"
     },
     "metadata": {},
     "execution_count": 67
    }
   ],
   "source": [
    "df2['E'] = ('one', 'one', 'two', 'three', 'four', 'three')\n",
    "df2"
   ]
  },
  {
   "cell_type": "code",
   "execution_count": 68,
   "metadata": {},
   "outputs": [
    {
     "output_type": "execute_result",
     "data": {
      "text/plain": [
       "                   A         B         C         D      E\n",
       "2021-01-03  0.931637  0.481341 -1.715976 -0.057648    two\n",
       "2021-01-04 -0.915766  0.027777 -0.853713 -0.673066  three\n",
       "2021-01-06 -1.578108 -1.040209 -0.190125  0.222660  three"
      ],
      "text/html": "<div>\n<style scoped>\n    .dataframe tbody tr th:only-of-type {\n        vertical-align: middle;\n    }\n\n    .dataframe tbody tr th {\n        vertical-align: top;\n    }\n\n    .dataframe thead th {\n        text-align: right;\n    }\n</style>\n<table border=\"1\" class=\"dataframe\">\n  <thead>\n    <tr style=\"text-align: right;\">\n      <th></th>\n      <th>A</th>\n      <th>B</th>\n      <th>C</th>\n      <th>D</th>\n      <th>E</th>\n    </tr>\n  </thead>\n  <tbody>\n    <tr>\n      <th>2021-01-03</th>\n      <td>0.931637</td>\n      <td>0.481341</td>\n      <td>-1.715976</td>\n      <td>-0.057648</td>\n      <td>two</td>\n    </tr>\n    <tr>\n      <th>2021-01-04</th>\n      <td>-0.915766</td>\n      <td>0.027777</td>\n      <td>-0.853713</td>\n      <td>-0.673066</td>\n      <td>three</td>\n    </tr>\n    <tr>\n      <th>2021-01-06</th>\n      <td>-1.578108</td>\n      <td>-1.040209</td>\n      <td>-0.190125</td>\n      <td>0.222660</td>\n      <td>three</td>\n    </tr>\n  </tbody>\n</table>\n</div>"
     },
     "metadata": {},
     "execution_count": 68
    }
   ],
   "source": [
    "df2[df2['E'].isin(('two', 'three'))]"
   ]
  },
  {
   "source": [
    "### [Setting](https://pandas.pydata.org/docs/user_guide/10min.html#setting)"
   ],
   "cell_type": "markdown",
   "metadata": {}
  },
  {
   "cell_type": "code",
   "execution_count": 69,
   "metadata": {},
   "outputs": [
    {
     "output_type": "execute_result",
     "data": {
      "text/plain": [
       "2021-01-02    20\n",
       "2021-01-03    30\n",
       "2021-01-04    40\n",
       "2021-01-05    50\n",
       "2021-01-06    60\n",
       "2021-01-07    70\n",
       "Freq: D, dtype: int64"
      ]
     },
     "metadata": {},
     "execution_count": 69
    }
   ],
   "source": [
    "s1 = pd.Series((20, 30, 40, 50, 60, 70), index=pd.date_range('20210102', periods=6))\n",
    "s1\n",
    "\n",
    "# Note, Series or DataFrame basically need to have index attached to it."
   ]
  },
  {
   "cell_type": "code",
   "execution_count": 70,
   "metadata": {},
   "outputs": [
    {
     "output_type": "execute_result",
     "data": {
      "text/plain": [
       "                   A         B         C         D     F\n",
       "2021-01-01 -0.280296 -0.622700 -0.740066 -1.804773   NaN\n",
       "2021-01-02  0.448926 -2.132935 -0.237265 -1.216808  20.0\n",
       "2021-01-03  0.931637  0.481341 -1.715976 -0.057648  30.0\n",
       "2021-01-04 -0.915766  0.027777 -0.853713 -0.673066  40.0\n",
       "2021-01-05  1.295416 -0.100129 -0.859383  0.444198  50.0\n",
       "2021-01-06 -1.578108 -1.040209 -0.190125  0.222660  60.0"
      ],
      "text/html": "<div>\n<style scoped>\n    .dataframe tbody tr th:only-of-type {\n        vertical-align: middle;\n    }\n\n    .dataframe tbody tr th {\n        vertical-align: top;\n    }\n\n    .dataframe thead th {\n        text-align: right;\n    }\n</style>\n<table border=\"1\" class=\"dataframe\">\n  <thead>\n    <tr style=\"text-align: right;\">\n      <th></th>\n      <th>A</th>\n      <th>B</th>\n      <th>C</th>\n      <th>D</th>\n      <th>F</th>\n    </tr>\n  </thead>\n  <tbody>\n    <tr>\n      <th>2021-01-01</th>\n      <td>-0.280296</td>\n      <td>-0.622700</td>\n      <td>-0.740066</td>\n      <td>-1.804773</td>\n      <td>NaN</td>\n    </tr>\n    <tr>\n      <th>2021-01-02</th>\n      <td>0.448926</td>\n      <td>-2.132935</td>\n      <td>-0.237265</td>\n      <td>-1.216808</td>\n      <td>20.0</td>\n    </tr>\n    <tr>\n      <th>2021-01-03</th>\n      <td>0.931637</td>\n      <td>0.481341</td>\n      <td>-1.715976</td>\n      <td>-0.057648</td>\n      <td>30.0</td>\n    </tr>\n    <tr>\n      <th>2021-01-04</th>\n      <td>-0.915766</td>\n      <td>0.027777</td>\n      <td>-0.853713</td>\n      <td>-0.673066</td>\n      <td>40.0</td>\n    </tr>\n    <tr>\n      <th>2021-01-05</th>\n      <td>1.295416</td>\n      <td>-0.100129</td>\n      <td>-0.859383</td>\n      <td>0.444198</td>\n      <td>50.0</td>\n    </tr>\n    <tr>\n      <th>2021-01-06</th>\n      <td>-1.578108</td>\n      <td>-1.040209</td>\n      <td>-0.190125</td>\n      <td>0.222660</td>\n      <td>60.0</td>\n    </tr>\n  </tbody>\n</table>\n</div>"
     },
     "metadata": {},
     "execution_count": 70
    }
   ],
   "source": [
    "df['F'] = s1\n",
    "df"
   ]
  },
  {
   "source": [
    "Okay, note that entry of index `2021-01-07` in Series `s1` has been dropped when it is added to DataFrame `df`. This means what's important is the index of the DataFrame on the left hand side."
   ],
   "cell_type": "markdown",
   "metadata": {}
  },
  {
   "cell_type": "code",
   "execution_count": 71,
   "metadata": {},
   "outputs": [
    {
     "output_type": "execute_result",
     "data": {
      "text/plain": [
       "                   A         B           C         D     F\n",
       "2021-01-01 -0.280296 -0.622700   -0.740066 -1.804773   NaN\n",
       "2021-01-02  0.448926 -2.132935   -0.237265 -1.216808  20.0\n",
       "2021-01-03  0.931637  0.481341  100.000000 -0.057648  30.0\n",
       "2021-01-04 -0.915766  0.027777   -0.853713 -0.673066  40.0\n",
       "2021-01-05  1.295416 -0.100129   -0.859383  0.444198  50.0\n",
       "2021-01-06 -1.578108 -1.040209   -0.190125  0.222660  60.0"
      ],
      "text/html": "<div>\n<style scoped>\n    .dataframe tbody tr th:only-of-type {\n        vertical-align: middle;\n    }\n\n    .dataframe tbody tr th {\n        vertical-align: top;\n    }\n\n    .dataframe thead th {\n        text-align: right;\n    }\n</style>\n<table border=\"1\" class=\"dataframe\">\n  <thead>\n    <tr style=\"text-align: right;\">\n      <th></th>\n      <th>A</th>\n      <th>B</th>\n      <th>C</th>\n      <th>D</th>\n      <th>F</th>\n    </tr>\n  </thead>\n  <tbody>\n    <tr>\n      <th>2021-01-01</th>\n      <td>-0.280296</td>\n      <td>-0.622700</td>\n      <td>-0.740066</td>\n      <td>-1.804773</td>\n      <td>NaN</td>\n    </tr>\n    <tr>\n      <th>2021-01-02</th>\n      <td>0.448926</td>\n      <td>-2.132935</td>\n      <td>-0.237265</td>\n      <td>-1.216808</td>\n      <td>20.0</td>\n    </tr>\n    <tr>\n      <th>2021-01-03</th>\n      <td>0.931637</td>\n      <td>0.481341</td>\n      <td>100.000000</td>\n      <td>-0.057648</td>\n      <td>30.0</td>\n    </tr>\n    <tr>\n      <th>2021-01-04</th>\n      <td>-0.915766</td>\n      <td>0.027777</td>\n      <td>-0.853713</td>\n      <td>-0.673066</td>\n      <td>40.0</td>\n    </tr>\n    <tr>\n      <th>2021-01-05</th>\n      <td>1.295416</td>\n      <td>-0.100129</td>\n      <td>-0.859383</td>\n      <td>0.444198</td>\n      <td>50.0</td>\n    </tr>\n    <tr>\n      <th>2021-01-06</th>\n      <td>-1.578108</td>\n      <td>-1.040209</td>\n      <td>-0.190125</td>\n      <td>0.222660</td>\n      <td>60.0</td>\n    </tr>\n  </tbody>\n</table>\n</div>"
     },
     "metadata": {},
     "execution_count": 71
    }
   ],
   "source": [
    "# Set values by label\n",
    "df.at[x[2], 'C'] = 100\n",
    "df"
   ]
  },
  {
   "cell_type": "code",
   "execution_count": 72,
   "metadata": {},
   "outputs": [
    {
     "output_type": "execute_result",
     "data": {
      "text/plain": [
       "100.0"
      ]
     },
     "metadata": {},
     "execution_count": 72
    }
   ],
   "source": [
    "# iat let you specify by integer index\n",
    "df.iat[2, 2]"
   ]
  },
  {
   "cell_type": "code",
   "execution_count": 73,
   "metadata": {},
   "outputs": [
    {
     "output_type": "execute_result",
     "data": {
      "text/plain": [
       "                   A         B           C         D     F\n",
       "2021-01-01 -0.280296 -0.622700   -0.740066 -1.804773   NaN\n",
       "2021-01-02  0.448926 -2.132935   -0.237265 -1.216808  20.0\n",
       "2021-01-03  0.931637  0.481341  150.000000 -0.057648  30.0\n",
       "2021-01-04 -0.915766  0.027777   -0.853713 -0.673066  40.0\n",
       "2021-01-05  1.295416 -0.100129   -0.859383  0.444198  50.0\n",
       "2021-01-06 -1.578108 -1.040209   -0.190125  0.222660  60.0"
      ],
      "text/html": "<div>\n<style scoped>\n    .dataframe tbody tr th:only-of-type {\n        vertical-align: middle;\n    }\n\n    .dataframe tbody tr th {\n        vertical-align: top;\n    }\n\n    .dataframe thead th {\n        text-align: right;\n    }\n</style>\n<table border=\"1\" class=\"dataframe\">\n  <thead>\n    <tr style=\"text-align: right;\">\n      <th></th>\n      <th>A</th>\n      <th>B</th>\n      <th>C</th>\n      <th>D</th>\n      <th>F</th>\n    </tr>\n  </thead>\n  <tbody>\n    <tr>\n      <th>2021-01-01</th>\n      <td>-0.280296</td>\n      <td>-0.622700</td>\n      <td>-0.740066</td>\n      <td>-1.804773</td>\n      <td>NaN</td>\n    </tr>\n    <tr>\n      <th>2021-01-02</th>\n      <td>0.448926</td>\n      <td>-2.132935</td>\n      <td>-0.237265</td>\n      <td>-1.216808</td>\n      <td>20.0</td>\n    </tr>\n    <tr>\n      <th>2021-01-03</th>\n      <td>0.931637</td>\n      <td>0.481341</td>\n      <td>150.000000</td>\n      <td>-0.057648</td>\n      <td>30.0</td>\n    </tr>\n    <tr>\n      <th>2021-01-04</th>\n      <td>-0.915766</td>\n      <td>0.027777</td>\n      <td>-0.853713</td>\n      <td>-0.673066</td>\n      <td>40.0</td>\n    </tr>\n    <tr>\n      <th>2021-01-05</th>\n      <td>1.295416</td>\n      <td>-0.100129</td>\n      <td>-0.859383</td>\n      <td>0.444198</td>\n      <td>50.0</td>\n    </tr>\n    <tr>\n      <th>2021-01-06</th>\n      <td>-1.578108</td>\n      <td>-1.040209</td>\n      <td>-0.190125</td>\n      <td>0.222660</td>\n      <td>60.0</td>\n    </tr>\n  </tbody>\n</table>\n</div>"
     },
     "metadata": {},
     "execution_count": 73
    }
   ],
   "source": [
    "df.iat[2, 2] = 150\n",
    "df"
   ]
  },
  {
   "source": [
    "### [Missing data](https://pandas.pydata.org/docs/user_guide/10min.html#missing-data)"
   ],
   "cell_type": "markdown",
   "metadata": {}
  },
  {
   "cell_type": "code",
   "execution_count": 74,
   "metadata": {},
   "outputs": [
    {
     "output_type": "execute_result",
     "data": {
      "text/plain": [
       "                   A         B           C         D     F    E\n",
       "2021-01-01 -0.280296 -0.622700   -0.740066 -1.804773   NaN  1.0\n",
       "2021-01-02  0.448926 -2.132935   -0.237265 -1.216808  20.0  1.0\n",
       "2021-01-03  0.931637  0.481341  150.000000 -0.057648  30.0  NaN\n",
       "2021-01-04 -0.915766  0.027777   -0.853713 -0.673066  40.0  NaN"
      ],
      "text/html": "<div>\n<style scoped>\n    .dataframe tbody tr th:only-of-type {\n        vertical-align: middle;\n    }\n\n    .dataframe tbody tr th {\n        vertical-align: top;\n    }\n\n    .dataframe thead th {\n        text-align: right;\n    }\n</style>\n<table border=\"1\" class=\"dataframe\">\n  <thead>\n    <tr style=\"text-align: right;\">\n      <th></th>\n      <th>A</th>\n      <th>B</th>\n      <th>C</th>\n      <th>D</th>\n      <th>F</th>\n      <th>E</th>\n    </tr>\n  </thead>\n  <tbody>\n    <tr>\n      <th>2021-01-01</th>\n      <td>-0.280296</td>\n      <td>-0.622700</td>\n      <td>-0.740066</td>\n      <td>-1.804773</td>\n      <td>NaN</td>\n      <td>1.0</td>\n    </tr>\n    <tr>\n      <th>2021-01-02</th>\n      <td>0.448926</td>\n      <td>-2.132935</td>\n      <td>-0.237265</td>\n      <td>-1.216808</td>\n      <td>20.0</td>\n      <td>1.0</td>\n    </tr>\n    <tr>\n      <th>2021-01-03</th>\n      <td>0.931637</td>\n      <td>0.481341</td>\n      <td>150.000000</td>\n      <td>-0.057648</td>\n      <td>30.0</td>\n      <td>NaN</td>\n    </tr>\n    <tr>\n      <th>2021-01-04</th>\n      <td>-0.915766</td>\n      <td>0.027777</td>\n      <td>-0.853713</td>\n      <td>-0.673066</td>\n      <td>40.0</td>\n      <td>NaN</td>\n    </tr>\n  </tbody>\n</table>\n</div>"
     },
     "metadata": {},
     "execution_count": 74
    }
   ],
   "source": [
    "df1 = df.reindex(index=x[0:4], columns=list(df.columns) + ['E'])\n",
    "df1.loc[x[0] : x[1], 'E'] = 1\n",
    "df1"
   ]
  },
  {
   "cell_type": "code",
   "execution_count": 75,
   "metadata": {},
   "outputs": [
    {
     "output_type": "execute_result",
     "data": {
      "text/plain": [
       "                   A         B         C         D     F    E\n",
       "2021-01-02  0.448926 -2.132935 -0.237265 -1.216808  20.0  1.0"
      ],
      "text/html": "<div>\n<style scoped>\n    .dataframe tbody tr th:only-of-type {\n        vertical-align: middle;\n    }\n\n    .dataframe tbody tr th {\n        vertical-align: top;\n    }\n\n    .dataframe thead th {\n        text-align: right;\n    }\n</style>\n<table border=\"1\" class=\"dataframe\">\n  <thead>\n    <tr style=\"text-align: right;\">\n      <th></th>\n      <th>A</th>\n      <th>B</th>\n      <th>C</th>\n      <th>D</th>\n      <th>F</th>\n      <th>E</th>\n    </tr>\n  </thead>\n  <tbody>\n    <tr>\n      <th>2021-01-02</th>\n      <td>0.448926</td>\n      <td>-2.132935</td>\n      <td>-0.237265</td>\n      <td>-1.216808</td>\n      <td>20.0</td>\n      <td>1.0</td>\n    </tr>\n  </tbody>\n</table>\n</div>"
     },
     "metadata": {},
     "execution_count": 75
    }
   ],
   "source": [
    "df1.dropna(how='any')"
   ]
  },
  {
   "cell_type": "code",
   "execution_count": 76,
   "metadata": {},
   "outputs": [
    {
     "output_type": "execute_result",
     "data": {
      "text/plain": [
       "                   A         B           C         D     F    E\n",
       "2021-01-01 -0.280296 -0.622700   -0.740066 -1.804773   5.0  1.0\n",
       "2021-01-02  0.448926 -2.132935   -0.237265 -1.216808  20.0  1.0\n",
       "2021-01-03  0.931637  0.481341  150.000000 -0.057648  30.0  5.0\n",
       "2021-01-04 -0.915766  0.027777   -0.853713 -0.673066  40.0  5.0"
      ],
      "text/html": "<div>\n<style scoped>\n    .dataframe tbody tr th:only-of-type {\n        vertical-align: middle;\n    }\n\n    .dataframe tbody tr th {\n        vertical-align: top;\n    }\n\n    .dataframe thead th {\n        text-align: right;\n    }\n</style>\n<table border=\"1\" class=\"dataframe\">\n  <thead>\n    <tr style=\"text-align: right;\">\n      <th></th>\n      <th>A</th>\n      <th>B</th>\n      <th>C</th>\n      <th>D</th>\n      <th>F</th>\n      <th>E</th>\n    </tr>\n  </thead>\n  <tbody>\n    <tr>\n      <th>2021-01-01</th>\n      <td>-0.280296</td>\n      <td>-0.622700</td>\n      <td>-0.740066</td>\n      <td>-1.804773</td>\n      <td>5.0</td>\n      <td>1.0</td>\n    </tr>\n    <tr>\n      <th>2021-01-02</th>\n      <td>0.448926</td>\n      <td>-2.132935</td>\n      <td>-0.237265</td>\n      <td>-1.216808</td>\n      <td>20.0</td>\n      <td>1.0</td>\n    </tr>\n    <tr>\n      <th>2021-01-03</th>\n      <td>0.931637</td>\n      <td>0.481341</td>\n      <td>150.000000</td>\n      <td>-0.057648</td>\n      <td>30.0</td>\n      <td>5.0</td>\n    </tr>\n    <tr>\n      <th>2021-01-04</th>\n      <td>-0.915766</td>\n      <td>0.027777</td>\n      <td>-0.853713</td>\n      <td>-0.673066</td>\n      <td>40.0</td>\n      <td>5.0</td>\n    </tr>\n  </tbody>\n</table>\n</div>"
     },
     "metadata": {},
     "execution_count": 76
    }
   ],
   "source": [
    "df1.fillna(value=5)"
   ]
  },
  {
   "source": [
    "### [Operations > Stats](https://pandas.pydata.org/docs/user_guide/10min.html#stats)"
   ],
   "cell_type": "markdown",
   "metadata": {}
  },
  {
   "cell_type": "code",
   "execution_count": 77,
   "metadata": {},
   "outputs": [
    {
     "output_type": "execute_result",
     "data": {
      "text/plain": [
       "A    -0.016365\n",
       "B    -0.564476\n",
       "C    24.519908\n",
       "D    -0.514240\n",
       "F    40.000000\n",
       "dtype: float64"
      ]
     },
     "metadata": {},
     "execution_count": 77
    }
   ],
   "source": [
    "## Operations in general exclude missing data.\n",
    "df.mean()"
   ]
  },
  {
   "cell_type": "code",
   "execution_count": 78,
   "metadata": {},
   "outputs": [
    {
     "output_type": "execute_result",
     "data": {
      "text/plain": [
       "A    -0.016365\n",
       "B    -0.564476\n",
       "C    24.519908\n",
       "D    -0.514240\n",
       "F    40.000000\n",
       "dtype: float64"
      ]
     },
     "metadata": {},
     "execution_count": 78
    }
   ],
   "source": [
    "# Operations run on axis 0 by default.\n",
    "df.mean(axis=0)"
   ]
  },
  {
   "cell_type": "code",
   "execution_count": 79,
   "metadata": {},
   "outputs": [
    {
     "output_type": "execute_result",
     "data": {
      "text/plain": [
       "2021-01-01    -0.861959\n",
       "2021-01-02     3.372384\n",
       "2021-01-03    36.271066\n",
       "2021-01-04     7.517046\n",
       "2021-01-05    10.156020\n",
       "2021-01-06    11.482843\n",
       "Freq: D, dtype: float64"
      ]
     },
     "metadata": {},
     "execution_count": 79
    }
   ],
   "source": [
    "# And you can run on axis 1.\n",
    "df.mean(axis=1)"
   ]
  },
  {
   "cell_type": "code",
   "execution_count": 80,
   "metadata": {},
   "outputs": [
    {
     "output_type": "execute_result",
     "data": {
      "text/plain": [
       "2021-01-01   NaN\n",
       "2021-01-02   NaN\n",
       "2021-01-03   NaN\n",
       "2021-01-04   NaN\n",
       "2021-01-05   NaN\n",
       "2021-01-06   NaN\n",
       "Freq: D, Name: A, dtype: float64"
      ]
     },
     "metadata": {},
     "execution_count": 80
    }
   ],
   "source": [
    "df['A'].shift(10)"
   ]
  },
  {
   "cell_type": "code",
   "execution_count": 81,
   "metadata": {},
   "outputs": [
    {
     "output_type": "execute_result",
     "data": {
      "text/plain": [
       "2021-01-01    1.0\n",
       "2021-01-02    3.0\n",
       "2021-01-03    5.0\n",
       "2021-01-04    NaN\n",
       "2021-01-05    6.0\n",
       "2021-01-06    8.0\n",
       "Freq: D, dtype: float64"
      ]
     },
     "metadata": {},
     "execution_count": 81
    }
   ],
   "source": [
    "s = pd.Series([1, 3, 5, np.nan, 6, 8], index=x)\n",
    "s"
   ]
  },
  {
   "cell_type": "code",
   "execution_count": 82,
   "metadata": {},
   "outputs": [
    {
     "output_type": "execute_result",
     "data": {
      "text/plain": [
       "2021-01-01    NaN\n",
       "2021-01-02    1.0\n",
       "2021-01-03    3.0\n",
       "2021-01-04    5.0\n",
       "2021-01-05    NaN\n",
       "2021-01-06    6.0\n",
       "Freq: D, dtype: float64"
      ]
     },
     "metadata": {},
     "execution_count": 82
    }
   ],
   "source": [
    "# shift shifts elements\n",
    "# https://pandas.pydata.org/pandas-docs/stable/reference/api/pandas.DataFrame.shift.html\n",
    "s = s.shift(1)\n",
    "s"
   ]
  },
  {
   "cell_type": "code",
   "execution_count": 83,
   "metadata": {},
   "outputs": [
    {
     "output_type": "execute_result",
     "data": {
      "text/plain": [
       "                   A         B           C         D     F\n",
       "2021-01-01       NaN       NaN         NaN       NaN   NaN\n",
       "2021-01-02 -0.551074 -3.132935   -1.237265 -2.216808  19.0\n",
       "2021-01-03 -2.068363 -2.518659  147.000000 -3.057648  27.0\n",
       "2021-01-04 -5.915766 -4.972223   -5.853713 -5.673066  35.0\n",
       "2021-01-05       NaN       NaN         NaN       NaN   NaN\n",
       "2021-01-06 -7.578108 -7.040209   -6.190125 -5.777340  54.0"
      ],
      "text/html": "<div>\n<style scoped>\n    .dataframe tbody tr th:only-of-type {\n        vertical-align: middle;\n    }\n\n    .dataframe tbody tr th {\n        vertical-align: top;\n    }\n\n    .dataframe thead th {\n        text-align: right;\n    }\n</style>\n<table border=\"1\" class=\"dataframe\">\n  <thead>\n    <tr style=\"text-align: right;\">\n      <th></th>\n      <th>A</th>\n      <th>B</th>\n      <th>C</th>\n      <th>D</th>\n      <th>F</th>\n    </tr>\n  </thead>\n  <tbody>\n    <tr>\n      <th>2021-01-01</th>\n      <td>NaN</td>\n      <td>NaN</td>\n      <td>NaN</td>\n      <td>NaN</td>\n      <td>NaN</td>\n    </tr>\n    <tr>\n      <th>2021-01-02</th>\n      <td>-0.551074</td>\n      <td>-3.132935</td>\n      <td>-1.237265</td>\n      <td>-2.216808</td>\n      <td>19.0</td>\n    </tr>\n    <tr>\n      <th>2021-01-03</th>\n      <td>-2.068363</td>\n      <td>-2.518659</td>\n      <td>147.000000</td>\n      <td>-3.057648</td>\n      <td>27.0</td>\n    </tr>\n    <tr>\n      <th>2021-01-04</th>\n      <td>-5.915766</td>\n      <td>-4.972223</td>\n      <td>-5.853713</td>\n      <td>-5.673066</td>\n      <td>35.0</td>\n    </tr>\n    <tr>\n      <th>2021-01-05</th>\n      <td>NaN</td>\n      <td>NaN</td>\n      <td>NaN</td>\n      <td>NaN</td>\n      <td>NaN</td>\n    </tr>\n    <tr>\n      <th>2021-01-06</th>\n      <td>-7.578108</td>\n      <td>-7.040209</td>\n      <td>-6.190125</td>\n      <td>-5.777340</td>\n      <td>54.0</td>\n    </tr>\n  </tbody>\n</table>\n</div>"
     },
     "metadata": {},
     "execution_count": 83
    }
   ],
   "source": [
    "# pandas automatically broadcasts. For example, if you subtract a Series from a DataFrame, pandas subtracts a Series from all columns of the DataFrame\n",
    "\n",
    "# pandas.DataFrame.sub subtract\n",
    "# https://pandas.pydata.org/pandas-docs/stable/reference/api/pandas.DataFrame.sub.html\n",
    "df.sub(s, axis=0)\n",
    "\n",
    "# axis=0 is defalut, by-index direction"
   ]
  },
  {
   "source": [
    "### [Apply](https://pandas.pydata.org/docs/user_guide/10min.html#apply)\n",
    "Applies functions to data."
   ],
   "cell_type": "markdown",
   "metadata": {}
  },
  {
   "cell_type": "code",
   "execution_count": 84,
   "metadata": {},
   "outputs": [
    {
     "output_type": "execute_result",
     "data": {
      "text/plain": [
       "                   A         B           C         D      F\n",
       "2021-01-01 -0.280296 -0.622700   -0.740066 -1.804773    NaN\n",
       "2021-01-02  0.168630 -2.755635   -0.977331 -3.021581   20.0\n",
       "2021-01-03  1.100267 -2.274293  149.022669 -3.079229   50.0\n",
       "2021-01-04  0.184500 -2.246517  148.168955 -3.752295   90.0\n",
       "2021-01-05  1.479916 -2.346646  147.309572 -3.308097  140.0\n",
       "2021-01-06 -0.098192 -3.386855  147.119447 -3.085438  200.0"
      ],
      "text/html": "<div>\n<style scoped>\n    .dataframe tbody tr th:only-of-type {\n        vertical-align: middle;\n    }\n\n    .dataframe tbody tr th {\n        vertical-align: top;\n    }\n\n    .dataframe thead th {\n        text-align: right;\n    }\n</style>\n<table border=\"1\" class=\"dataframe\">\n  <thead>\n    <tr style=\"text-align: right;\">\n      <th></th>\n      <th>A</th>\n      <th>B</th>\n      <th>C</th>\n      <th>D</th>\n      <th>F</th>\n    </tr>\n  </thead>\n  <tbody>\n    <tr>\n      <th>2021-01-01</th>\n      <td>-0.280296</td>\n      <td>-0.622700</td>\n      <td>-0.740066</td>\n      <td>-1.804773</td>\n      <td>NaN</td>\n    </tr>\n    <tr>\n      <th>2021-01-02</th>\n      <td>0.168630</td>\n      <td>-2.755635</td>\n      <td>-0.977331</td>\n      <td>-3.021581</td>\n      <td>20.0</td>\n    </tr>\n    <tr>\n      <th>2021-01-03</th>\n      <td>1.100267</td>\n      <td>-2.274293</td>\n      <td>149.022669</td>\n      <td>-3.079229</td>\n      <td>50.0</td>\n    </tr>\n    <tr>\n      <th>2021-01-04</th>\n      <td>0.184500</td>\n      <td>-2.246517</td>\n      <td>148.168955</td>\n      <td>-3.752295</td>\n      <td>90.0</td>\n    </tr>\n    <tr>\n      <th>2021-01-05</th>\n      <td>1.479916</td>\n      <td>-2.346646</td>\n      <td>147.309572</td>\n      <td>-3.308097</td>\n      <td>140.0</td>\n    </tr>\n    <tr>\n      <th>2021-01-06</th>\n      <td>-0.098192</td>\n      <td>-3.386855</td>\n      <td>147.119447</td>\n      <td>-3.085438</td>\n      <td>200.0</td>\n    </tr>\n  </tbody>\n</table>\n</div>"
     },
     "metadata": {},
     "execution_count": 84
    }
   ],
   "source": [
    "df.apply(np.cumsum)"
   ]
  },
  {
   "cell_type": "code",
   "execution_count": 86,
   "metadata": {},
   "outputs": [
    {
     "output_type": "execute_result",
     "data": {
      "text/plain": [
       "A      2.873524\n",
       "B      2.614276\n",
       "C    150.859383\n",
       "D      2.248971\n",
       "F     40.000000\n",
       "dtype: float64"
      ]
     },
     "metadata": {},
     "execution_count": 86
    }
   ],
   "source": [
    "df.apply(lambda x: x.max() - x.min() )"
   ]
  },
  {
   "cell_type": "code",
   "execution_count": null,
   "metadata": {},
   "outputs": [],
   "source": []
  }
 ]
}