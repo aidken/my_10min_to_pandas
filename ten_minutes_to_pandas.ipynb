{
 "metadata": {
  "language_info": {
   "codemirror_mode": {
    "name": "ipython",
    "version": 3
   },
   "file_extension": ".py",
   "mimetype": "text/x-python",
   "name": "python",
   "nbconvert_exporter": "python",
   "pygments_lexer": "ipython3",
   "version": "3.8.8"
  },
  "orig_nbformat": 2,
  "kernelspec": {
   "name": "python388jvsc74a57bd0c458099ea83a5ed039bb819f7066f0dffb48e7e559bf7d5a5aff014a94aff5f9",
   "display_name": "Python 3.8.8 64-bit ('base': conda)"
  }
 },
 "nbformat": 4,
 "nbformat_minor": 2,
 "cells": [
  {
   "source": [
    "### My walk-through of [10 minutes to pandas](https://pandas.pydata.org/docs/user_guide/10min.html)."
   ],
   "cell_type": "markdown",
   "metadata": {}
  },
  {
   "cell_type": "code",
   "execution_count": 9,
   "metadata": {},
   "outputs": [],
   "source": [
    "import numpy as np\n",
    "import pandas as pd"
   ]
  },
  {
   "cell_type": "code",
   "execution_count": 10,
   "metadata": {},
   "outputs": [
    {
     "output_type": "execute_result",
     "data": {
      "text/plain": [
       "0    1.0\n",
       "1    3.0\n",
       "2    4.0\n",
       "3    NaN\n",
       "4    6.0\n",
       "5    8.0\n",
       "dtype: float64"
      ]
     },
     "metadata": {},
     "execution_count": 10
    }
   ],
   "source": [
    "s = pd.Series([1, 3, 4, np.nan, 6, 8])\n",
    "s"
   ]
  },
  {
   "cell_type": "code",
   "execution_count": 11,
   "metadata": {},
   "outputs": [
    {
     "output_type": "execute_result",
     "data": {
      "text/plain": [
       "count    5.000000\n",
       "mean     4.400000\n",
       "std      2.701851\n",
       "min      1.000000\n",
       "25%      3.000000\n",
       "50%      4.000000\n",
       "75%      6.000000\n",
       "max      8.000000\n",
       "dtype: float64"
      ]
     },
     "metadata": {},
     "execution_count": 11
    }
   ],
   "source": [
    "s.describe()"
   ]
  },
  {
   "cell_type": "code",
   "execution_count": 12,
   "metadata": {},
   "outputs": [
    {
     "output_type": "execute_result",
     "data": {
      "text/plain": [
       "DatetimeIndex(['2021-01-01', '2021-01-02', '2021-01-03', '2021-01-04',\n",
       "               '2021-01-05', '2021-01-06'],\n",
       "              dtype='datetime64[ns]', freq='D')"
      ]
     },
     "metadata": {},
     "execution_count": 12
    }
   ],
   "source": [
    "x = pd.date_range('20210101', periods=6)\n",
    "x"
   ]
  },
  {
   "cell_type": "code",
   "execution_count": 13,
   "metadata": {},
   "outputs": [
    {
     "output_type": "execute_result",
     "data": {
      "text/plain": [
       "                   A         B         C         D\n",
       "2021-01-01 -0.965594  0.606750  0.309550 -0.383379\n",
       "2021-01-02 -1.155890  1.427181  1.058731 -0.869181\n",
       "2021-01-03  0.644540 -0.640330  1.310864  1.217529\n",
       "2021-01-04 -0.373512 -0.740447 -0.386540 -1.152981\n",
       "2021-01-05  0.149764 -0.369635 -0.980854  0.398618\n",
       "2021-01-06 -0.875730  1.659220 -0.521478 -1.199054"
      ],
      "text/html": "<div>\n<style scoped>\n    .dataframe tbody tr th:only-of-type {\n        vertical-align: middle;\n    }\n\n    .dataframe tbody tr th {\n        vertical-align: top;\n    }\n\n    .dataframe thead th {\n        text-align: right;\n    }\n</style>\n<table border=\"1\" class=\"dataframe\">\n  <thead>\n    <tr style=\"text-align: right;\">\n      <th></th>\n      <th>A</th>\n      <th>B</th>\n      <th>C</th>\n      <th>D</th>\n    </tr>\n  </thead>\n  <tbody>\n    <tr>\n      <th>2021-01-01</th>\n      <td>-0.965594</td>\n      <td>0.606750</td>\n      <td>0.309550</td>\n      <td>-0.383379</td>\n    </tr>\n    <tr>\n      <th>2021-01-02</th>\n      <td>-1.155890</td>\n      <td>1.427181</td>\n      <td>1.058731</td>\n      <td>-0.869181</td>\n    </tr>\n    <tr>\n      <th>2021-01-03</th>\n      <td>0.644540</td>\n      <td>-0.640330</td>\n      <td>1.310864</td>\n      <td>1.217529</td>\n    </tr>\n    <tr>\n      <th>2021-01-04</th>\n      <td>-0.373512</td>\n      <td>-0.740447</td>\n      <td>-0.386540</td>\n      <td>-1.152981</td>\n    </tr>\n    <tr>\n      <th>2021-01-05</th>\n      <td>0.149764</td>\n      <td>-0.369635</td>\n      <td>-0.980854</td>\n      <td>0.398618</td>\n    </tr>\n    <tr>\n      <th>2021-01-06</th>\n      <td>-0.875730</td>\n      <td>1.659220</td>\n      <td>-0.521478</td>\n      <td>-1.199054</td>\n    </tr>\n  </tbody>\n</table>\n</div>"
     },
     "metadata": {},
     "execution_count": 13
    }
   ],
   "source": [
    "df = pd.DataFrame(np.random.randn(6, 4), index=x, columns=list('ABCD'))\n",
    "df"
   ]
  },
  {
   "cell_type": "code",
   "execution_count": 14,
   "metadata": {},
   "outputs": [
    {
     "output_type": "execute_result",
     "data": {
      "text/plain": [
       "              A         B         C         D\n",
       "count  6.000000  6.000000  6.000000  6.000000\n",
       "mean  -0.429404  0.323790  0.131712 -0.331408\n",
       "std    0.708012  1.060554  0.918089  0.964555\n",
       "min   -1.155890 -0.740447 -0.980854 -1.199054\n",
       "25%   -0.943128 -0.572656 -0.487743 -1.082031\n",
       "50%   -0.624621  0.118558 -0.038495 -0.626280\n",
       "75%    0.018945  1.222073  0.871436  0.203118\n",
       "max    0.644540  1.659220  1.310864  1.217529"
      ],
      "text/html": "<div>\n<style scoped>\n    .dataframe tbody tr th:only-of-type {\n        vertical-align: middle;\n    }\n\n    .dataframe tbody tr th {\n        vertical-align: top;\n    }\n\n    .dataframe thead th {\n        text-align: right;\n    }\n</style>\n<table border=\"1\" class=\"dataframe\">\n  <thead>\n    <tr style=\"text-align: right;\">\n      <th></th>\n      <th>A</th>\n      <th>B</th>\n      <th>C</th>\n      <th>D</th>\n    </tr>\n  </thead>\n  <tbody>\n    <tr>\n      <th>count</th>\n      <td>6.000000</td>\n      <td>6.000000</td>\n      <td>6.000000</td>\n      <td>6.000000</td>\n    </tr>\n    <tr>\n      <th>mean</th>\n      <td>-0.429404</td>\n      <td>0.323790</td>\n      <td>0.131712</td>\n      <td>-0.331408</td>\n    </tr>\n    <tr>\n      <th>std</th>\n      <td>0.708012</td>\n      <td>1.060554</td>\n      <td>0.918089</td>\n      <td>0.964555</td>\n    </tr>\n    <tr>\n      <th>min</th>\n      <td>-1.155890</td>\n      <td>-0.740447</td>\n      <td>-0.980854</td>\n      <td>-1.199054</td>\n    </tr>\n    <tr>\n      <th>25%</th>\n      <td>-0.943128</td>\n      <td>-0.572656</td>\n      <td>-0.487743</td>\n      <td>-1.082031</td>\n    </tr>\n    <tr>\n      <th>50%</th>\n      <td>-0.624621</td>\n      <td>0.118558</td>\n      <td>-0.038495</td>\n      <td>-0.626280</td>\n    </tr>\n    <tr>\n      <th>75%</th>\n      <td>0.018945</td>\n      <td>1.222073</td>\n      <td>0.871436</td>\n      <td>0.203118</td>\n    </tr>\n    <tr>\n      <th>max</th>\n      <td>0.644540</td>\n      <td>1.659220</td>\n      <td>1.310864</td>\n      <td>1.217529</td>\n    </tr>\n  </tbody>\n</table>\n</div>"
     },
     "metadata": {},
     "execution_count": 14
    }
   ],
   "source": [
    "df.describe()"
   ]
  },
  {
   "source": [
    "Creating a [DataFrame](https://pandas.pydata.org/docs/reference/api/pandas.DataFrame.html#pandas.DataFrame) by passing a dict of objects that can be converted to series-like."
   ],
   "cell_type": "markdown",
   "metadata": {}
  },
  {
   "cell_type": "code",
   "execution_count": 23,
   "metadata": {},
   "outputs": [
    {
     "output_type": "execute_result",
     "data": {
      "text/plain": [
       "     A          B    C  D      E    F\n",
       "0  1.0 2021-01-01  1.0  3   test  foo\n",
       "1  1.0 2021-01-01  1.0  3  train  foo\n",
       "2  1.0 2021-01-01  1.0  3   test  foo\n",
       "3  1.0 2021-01-01  1.0  3  train  foo"
      ],
      "text/html": "<div>\n<style scoped>\n    .dataframe tbody tr th:only-of-type {\n        vertical-align: middle;\n    }\n\n    .dataframe tbody tr th {\n        vertical-align: top;\n    }\n\n    .dataframe thead th {\n        text-align: right;\n    }\n</style>\n<table border=\"1\" class=\"dataframe\">\n  <thead>\n    <tr style=\"text-align: right;\">\n      <th></th>\n      <th>A</th>\n      <th>B</th>\n      <th>C</th>\n      <th>D</th>\n      <th>E</th>\n      <th>F</th>\n    </tr>\n  </thead>\n  <tbody>\n    <tr>\n      <th>0</th>\n      <td>1.0</td>\n      <td>2021-01-01</td>\n      <td>1.0</td>\n      <td>3</td>\n      <td>test</td>\n      <td>foo</td>\n    </tr>\n    <tr>\n      <th>1</th>\n      <td>1.0</td>\n      <td>2021-01-01</td>\n      <td>1.0</td>\n      <td>3</td>\n      <td>train</td>\n      <td>foo</td>\n    </tr>\n    <tr>\n      <th>2</th>\n      <td>1.0</td>\n      <td>2021-01-01</td>\n      <td>1.0</td>\n      <td>3</td>\n      <td>test</td>\n      <td>foo</td>\n    </tr>\n    <tr>\n      <th>3</th>\n      <td>1.0</td>\n      <td>2021-01-01</td>\n      <td>1.0</td>\n      <td>3</td>\n      <td>train</td>\n      <td>foo</td>\n    </tr>\n  </tbody>\n</table>\n</div>"
     },
     "metadata": {},
     "execution_count": 23
    }
   ],
   "source": [
    "df2 = pd.DataFrame(\n",
    "    {\n",
    "        'A': 1.0,\n",
    "        'B': pd.Timestamp('20210101'),\n",
    "        'C': pd.Series(1, index=list(range(4)), dtype='float64'),\n",
    "        'D': np.array([3]*4, dtype='int64'),\n",
    "        'E': pd.Categorical(['test', 'train', 'test', 'train']),\n",
    "        'F': 'foo',\n",
    "    }\n",
    ")\n",
    "\n",
    "df2"
   ]
  },
  {
   "source": [
    "Interesting. A single entry (such as 1 of column A, timestamp of column B, and so on) are just extended.\n",
    "\n",
    "In this example, the number of records seems to be determined by this line:\n",
    "\n",
    "```\n",
    "        'C': pd.Series(1, index=list(range(4)), dtype='float64'),\n",
    "```\n",
    "\n",
    "This determines the number of records of this DataFrame is four.\n",
    "\n",
    "Columns A, B, and F are just a single entry. They are made to a [Series](https://pandas.pydata.org/docs/reference/api/pandas.Series.html#pandas.Series). Scalar `1` is turned to `[1, 1, 1, 1]`.\n",
    "\n",
    "\n",
    "If you give 5 as multiplier on column D:\n",
    "```\n",
    "        'D': np.array([3]*5, dtype='int64'),\n",
    "```\n",
    "\n",
    "Pandas complains that the number of records is not consistent with other part of code.\n",
    "\n",
    "Also, Pandas cannot extend a list. If you give this on column E:\n",
    "```\n",
    "        'E': pd.Categorical(['test', 'train']),\n",
    "```\n",
    "Pandas does not bother to repeat this 2-entry list and make it four.\n",
    "\n",
    "\n",
    "This is much like broadcasting of Excel [Dynamic Arrays](https://techcommunity.microsoft.com/t5/excel-blog/preview-of-dynamic-arrays-in-excel/ba-p/252944).\n",
    "\n",
    "[R](https://www.r-project.org/) takes a different approach when it finds a situation like this. It tries to extend/multiply to make its series fit to the entire dataframe.\n",
    "\n",
    "Different languages takes different approaches. Very interesting."
   ],
   "cell_type": "markdown",
   "metadata": {}
  },
  {
   "cell_type": "code",
   "execution_count": 24,
   "metadata": {},
   "outputs": [
    {
     "output_type": "execute_result",
     "data": {
      "text/plain": [
       "A           float64\n",
       "B    datetime64[ns]\n",
       "C           float64\n",
       "D             int64\n",
       "E          category\n",
       "F            object\n",
       "dtype: object"
      ]
     },
     "metadata": {},
     "execution_count": 24
    }
   ],
   "source": [
    "df2.dtypes"
   ]
  },
  {
   "cell_type": "code",
   "execution_count": 27,
   "metadata": {},
   "outputs": [
    {
     "output_type": "execute_result",
     "data": {
      "text/plain": [
       "DatetimeIndex(['2021-01-01', '2021-01-02', '2021-01-03', '2021-01-04',\n",
       "               '2021-01-05', '2021-01-06'],\n",
       "              dtype='datetime64[ns]', freq='D')"
      ]
     },
     "metadata": {},
     "execution_count": 27
    }
   ],
   "source": [
    "df.index"
   ]
  },
  {
   "cell_type": "code",
   "execution_count": 28,
   "metadata": {},
   "outputs": [
    {
     "output_type": "execute_result",
     "data": {
      "text/plain": [
       "Index(['A', 'B', 'C', 'D'], dtype='object')"
      ]
     },
     "metadata": {},
     "execution_count": 28
    }
   ],
   "source": [
    "df.columns"
   ]
  },
  {
   "cell_type": "code",
   "execution_count": null,
   "metadata": {},
   "outputs": [],
   "source": []
  }
 ]
}